{
 "cells": [
  {
   "cell_type": "markdown",
   "id": "7e510060",
   "metadata": {},
   "source": [
    "Besides other reflections, which I'll copy below this for good measure, maybe let's make things simple, well, relatively, and see how we do when we make gendered models... we saw how vastly different each were, plus would be relatively easy..."
   ]
  },
  {
   "cell_type": "markdown",
   "id": "9bb3efb3",
   "metadata": {},
   "source": [
    "\"Aww, when I submtted i [rounded] I only got .154ish; ii gave me .151ish. Mind you, this is only based upon 20% of the data, however the question remains - did I use the right metric? Furthermore, the models were only optimized on a raw r2 basis... perhaps things would change if the scoring metric was formerly rmsle.\n",
    "\n",
    "Additionally, we could still experiment with not natural logging rings, using a fushion of polynomial and log features. Also, we can actually prune the forest (hyperparameter tune it). Furthermore, how about we stop complaining and use SVR???\n",
    "\n",
    "And finally, for good measure, I'll repeat myself - did I use the right metric?!!?\""
   ]
  },
  {
   "cell_type": "code",
   "execution_count": 16,
   "id": "3ed3978d",
   "metadata": {},
   "outputs": [],
   "source": [
    "import pandas as pd\n",
    "import numpy as np\n",
    "import matplotlib.pyplot as plt\n",
    "\n",
    "from sklearn.model_selection import train_test_split\n",
    "from sklearn.preprocessing import MinMaxScaler\n",
    "\n",
    "from sklearn.feature_selection import RFECV #was hoping for this without the reverse, but I don't see it. Oh well when\n",
    "from sklearn.model_selection import cross_val_score\n",
    "from sklearn.pipeline import Pipeline\n",
    "\n",
    "from sklearn.model_selection import GridSearchCV\n",
    "#it's just 8; well, it'll be more hectic momentarily...\n",
    "\n",
    "# from sklearn.metrics import make_scorer\n",
    "from sklearn.metrics import root_mean_squared_log_error #Phew this on is on there... I mean find if we'd have to square,\n",
    "#but rather not have to write the formula.\n",
    "\n",
    "# from sklearn.metrics import make_scorer\n",
    "\n",
    "from sklearn.linear_model import LinearRegression\n",
    "from sklearn.ensemble import RandomForestRegressor\n",
    "from sklearn.ensemble import BaggingRegressor\n",
    "from sklearn.svm import SVR\n",
    "\n",
    "from sklearn.preprocessing import PolynomialFeatures\n",
    "\n",
    "from sklearn.metrics import make_scorer\n",
    "from sklearn.metrics import root_mean_squared_log_error"
   ]
  },
  {
   "cell_type": "code",
   "execution_count": 6,
   "id": "bbbfcb5c",
   "metadata": {},
   "outputs": [],
   "source": [
    "scoring = make_scorer(root_mean_squared_log_error, greater_is_better=False)"
   ]
  },
  {
   "cell_type": "code",
   "execution_count": 7,
   "id": "a80f47c4",
   "metadata": {},
   "outputs": [
    {
     "name": "stdout",
     "output_type": "stream",
     "text": [
      "(90609, 10)\n"
     ]
    },
    {
     "data": {
      "text/html": [
       "<div>\n",
       "<style scoped>\n",
       "    .dataframe tbody tr th:only-of-type {\n",
       "        vertical-align: middle;\n",
       "    }\n",
       "\n",
       "    .dataframe tbody tr th {\n",
       "        vertical-align: top;\n",
       "    }\n",
       "\n",
       "    .dataframe thead th {\n",
       "        text-align: right;\n",
       "    }\n",
       "</style>\n",
       "<table border=\"1\" class=\"dataframe\">\n",
       "  <thead>\n",
       "    <tr style=\"text-align: right;\">\n",
       "      <th></th>\n",
       "      <th>length</th>\n",
       "      <th>diameter</th>\n",
       "      <th>height</th>\n",
       "      <th>whole_weight</th>\n",
       "      <th>whole_weight1</th>\n",
       "      <th>whole_weight2</th>\n",
       "      <th>shell_weight</th>\n",
       "      <th>rings</th>\n",
       "      <th>sex_I</th>\n",
       "      <th>sex_M</th>\n",
       "    </tr>\n",
       "  </thead>\n",
       "  <tbody>\n",
       "    <tr>\n",
       "      <th>0</th>\n",
       "      <td>0.550</td>\n",
       "      <td>0.430</td>\n",
       "      <td>0.150</td>\n",
       "      <td>0.7715</td>\n",
       "      <td>0.3285</td>\n",
       "      <td>0.1465</td>\n",
       "      <td>0.2400</td>\n",
       "      <td>11</td>\n",
       "      <td>0</td>\n",
       "      <td>0</td>\n",
       "    </tr>\n",
       "    <tr>\n",
       "      <th>1</th>\n",
       "      <td>0.630</td>\n",
       "      <td>0.490</td>\n",
       "      <td>0.145</td>\n",
       "      <td>1.1300</td>\n",
       "      <td>0.4580</td>\n",
       "      <td>0.2765</td>\n",
       "      <td>0.3200</td>\n",
       "      <td>11</td>\n",
       "      <td>0</td>\n",
       "      <td>0</td>\n",
       "    </tr>\n",
       "    <tr>\n",
       "      <th>2</th>\n",
       "      <td>0.160</td>\n",
       "      <td>0.110</td>\n",
       "      <td>0.025</td>\n",
       "      <td>0.0210</td>\n",
       "      <td>0.0055</td>\n",
       "      <td>0.0030</td>\n",
       "      <td>0.0050</td>\n",
       "      <td>6</td>\n",
       "      <td>1</td>\n",
       "      <td>0</td>\n",
       "    </tr>\n",
       "    <tr>\n",
       "      <th>3</th>\n",
       "      <td>0.595</td>\n",
       "      <td>0.475</td>\n",
       "      <td>0.150</td>\n",
       "      <td>0.9145</td>\n",
       "      <td>0.3755</td>\n",
       "      <td>0.2055</td>\n",
       "      <td>0.2500</td>\n",
       "      <td>10</td>\n",
       "      <td>0</td>\n",
       "      <td>1</td>\n",
       "    </tr>\n",
       "    <tr>\n",
       "      <th>4</th>\n",
       "      <td>0.555</td>\n",
       "      <td>0.425</td>\n",
       "      <td>0.130</td>\n",
       "      <td>0.7820</td>\n",
       "      <td>0.3695</td>\n",
       "      <td>0.1600</td>\n",
       "      <td>0.1975</td>\n",
       "      <td>9</td>\n",
       "      <td>1</td>\n",
       "      <td>0</td>\n",
       "    </tr>\n",
       "  </tbody>\n",
       "</table>\n",
       "</div>"
      ],
      "text/plain": [
       "   length  diameter  height  whole_weight  whole_weight1  whole_weight2  \\\n",
       "0   0.550     0.430   0.150        0.7715         0.3285         0.1465   \n",
       "1   0.630     0.490   0.145        1.1300         0.4580         0.2765   \n",
       "2   0.160     0.110   0.025        0.0210         0.0055         0.0030   \n",
       "3   0.595     0.475   0.150        0.9145         0.3755         0.2055   \n",
       "4   0.555     0.425   0.130        0.7820         0.3695         0.1600   \n",
       "\n",
       "   shell_weight  rings  sex_I  sex_M  \n",
       "0        0.2400     11      0      0  \n",
       "1        0.3200     11      0      0  \n",
       "2        0.0050      6      1      0  \n",
       "3        0.2500     10      0      1  \n",
       "4        0.1975      9      1      0  "
      ]
     },
     "execution_count": 7,
     "metadata": {},
     "output_type": "execute_result"
    }
   ],
   "source": [
    "df = pd.read_csv('../data/cleaned_train.csv')\n",
    "df = pd.get_dummies(df, columns=['sex'], dtype=int, drop_first=True)\n",
    "print(df.shape)\n",
    "df.head()"
   ]
  },
  {
   "cell_type": "code",
   "execution_count": 8,
   "id": "f82d550f",
   "metadata": {},
   "outputs": [
    {
     "name": "stderr",
     "output_type": "stream",
     "text": [
      "C:\\ProgramData\\anaconda3\\Lib\\site-packages\\pandas\\core\\internals\\blocks.py:329: RuntimeWarning: divide by zero encountered in log\n",
      "  result = func(self.values, **kwargs)\n"
     ]
    }
   ],
   "source": [
    "#I'll jump to logged modeling, as that did the best:\n",
    "\n",
    "df_log = np.log(df)\n",
    "\n",
    "df_log['sex_I'] = df['sex_I'] #Eh, for reference...\n",
    "df_log['sex_M'] = df['sex_M']"
   ]
  },
  {
   "cell_type": "code",
   "execution_count": 9,
   "id": "1fc8aa3f",
   "metadata": {},
   "outputs": [],
   "source": [
    "males_log = df_log[df_log['sex_M']==1] #We'll start with males and if this does super well then we'll bother for the rest.\n",
    "ind_log = df_log[df_log['sex_I']==1]\n",
    "females_log = df_log[(df_log['sex_M']==0) & (df_log['sex_I']==0)]"
   ]
  },
  {
   "cell_type": "markdown",
   "id": "42015322",
   "metadata": {},
   "source": [
    "After our pilot on males, with a mere logreg giving us already .052, we're comitted to gendering the abalones. However, from a coding standpoint what can we do?\n",
    "\n",
    "A bit tempted to brute-force it when there are just three of them...<br>\n",
    "Another option, which I've done in the past, is to make loops to generate the variable names... but that just seems too arduous... So, brute force it is!"
   ]
  },
  {
   "cell_type": "code",
   "execution_count": 32,
   "id": "4d04bd6c",
   "metadata": {},
   "outputs": [],
   "source": [
    "X_m = males_log.drop(['rings', 'sex_I', 'sex_M'], axis=1)\n",
    "y_m = males_log['rings']\n",
    "\n",
    "X_train_m, X_test_m, y_train_m, y_test_m = train_test_split(X_m, y_m, test_size=.25, random_state=26)\n",
    "\n",
    "mms = MinMaxScaler()\n",
    "X_train_m = mms.fit_transform(X_train_m)\n",
    "X_test_m = mms.transform(X_test_m)\n",
    "\n",
    "###########################################\n",
    "\n",
    "X_f = females_log.drop(['rings', 'sex_I', 'sex_M'], axis=1)\n",
    "y_f = females_log['rings']\n",
    "\n",
    "X_train_f, X_test_f, y_train_f, y_test_f = train_test_split(X_f, y_f, test_size=.25, random_state=26)\n",
    "\n",
    "mms = MinMaxScaler() #Redubbing in case\n",
    "X_train_f = mms.fit_transform(X_train_f)\n",
    "X_test_f = mms.transform(X_test_f)\n",
    "\n",
    "####################################\n",
    "\n",
    "X_i = ind_log.drop(['rings', 'sex_I', 'sex_M'], axis=1)\n",
    "y_i = ind_log['rings']\n",
    "\n",
    "X_train_i, X_test_i, y_train_i, y_test_i = train_test_split(X_i, y_i, test_size=.25, random_state=26)\n",
    "\n",
    "mms = MinMaxScaler()\n",
    "X_train_i = mms.fit_transform(X_train_i)\n",
    "X_test_i = mms.transform(X_test_i)"
   ]
  },
  {
   "cell_type": "code",
   "execution_count": 33,
   "id": "601bccd8",
   "metadata": {},
   "outputs": [
    {
     "name": "stdout",
     "output_type": "stream",
     "text": [
      "[]\n",
      "0.5161445500137307 0.5239455437966991\n",
      "[-0.05575468 -0.05574097 -0.05574322]\n",
      "0.05214827372018365 is the rmsle of males\n",
      "~~~~~~~~~~~~~~~~~~~~~~~~~~\n",
      "[]\n",
      "0.44644442376205973 0.45985686884031995\n",
      "[-0.05644643 -0.05634278 -0.05634387]\n",
      "0.053150820863495034 is the rmsle of females\n",
      "~~~~~~~~~~~~~~~~~~~~~~~~~~\n",
      "[]\n",
      "0.6451731789442452 0.6453981930754247\n",
      "[-0.05919742 -0.05918841 -0.05916195]\n",
      "0.06037852303767514 is the rmsle of indetermined\n",
      "~~~~~~~~~~~~~~~~~~~~~~~~~~\n"
     ]
    }
   ],
   "source": [
    "#And now the moment of truth!\n",
    "\n",
    "current_gender = \"males\"\n",
    "lr = LinearRegression()\n",
    "\n",
    "rfe = RFECV(lr, step=1, cv=5,\n",
    "                       scoring=scoring, min_features_to_select=5)\n",
    "\n",
    "model_defaults_m = rfe.fit(X_train_m, y_train_m)\n",
    "\n",
    "preds_model_defaults_m = model_defaults_m.predict(X_test_m)\n",
    "\n",
    "for i in range(len(preds_model_defaults_m)):\n",
    "    if preds_model_defaults_m[i] < 0:\n",
    "        preds_model_defaults_m[i] = 0\n",
    "print(preds_model_defaults_m[preds_model_defaults_m<0])\n",
    "\n",
    "print(model_defaults_m.score(X_train_m, y_train_m), model_defaults_m.score(X_test_m, y_test_m))\n",
    "print(model_defaults_m.cv_results_['mean_test_score'])\n",
    "print(f\"{root_mean_squared_log_error(y_test_m, preds_model_defaults_m)} is the rmsle of {current_gender}\")\n",
    "print(f\"~\"*26)\n",
    "#Oh baby, .052 with just linreg!!! Yeah, let's do this...\n",
    "\n",
    "###########################################\n",
    "\n",
    "current_gender = \"females\"\n",
    "lr = LinearRegression()\n",
    "\n",
    "rfe = RFECV(lr, step=1, cv=5,\n",
    "                       scoring=scoring, min_features_to_select=5)\n",
    "\n",
    "model_defaults_f = rfe.fit(X_train_f, y_train_f)\n",
    "\n",
    "preds_model_defaults_f = model_defaults_f.predict(X_test_f)\n",
    "\n",
    "for i in range(len(preds_model_defaults_f)):\n",
    "    if preds_model_defaults_f[i] < 0:\n",
    "        preds_model_defaults_f[i] = 0\n",
    "print(preds_model_defaults_f[preds_model_defaults_f<0])\n",
    "\n",
    "print(model_defaults_f.score(X_train_f, y_train_f), model_defaults_f.score(X_test_f, y_test_f))\n",
    "print(model_defaults_f.cv_results_['mean_test_score'])\n",
    "print(f\"{root_mean_squared_log_error(y_test_f, preds_model_defaults_f)} is the rmsle of {current_gender}\")\n",
    "print(f\"~\"*26)\n",
    "\n",
    "###########################################\n",
    "\n",
    "current_gender = \"indetermined\" #Oh, that's spelled with a U. Oh well.\n",
    "lr = LinearRegression()\n",
    "\n",
    "rfe = RFECV(lr, step=1, cv=5,\n",
    "                       scoring=scoring, min_features_to_select=5)\n",
    "\n",
    "model_defaults_i = rfe.fit(X_train_i, y_train_i)\n",
    "\n",
    "preds_model_defaults_i = model_defaults_i.predict(X_test_i)\n",
    "\n",
    "for i in range(len(preds_model_defaults_i)):\n",
    "    if preds_model_defaults_i[i] < 0:\n",
    "        preds_model_defaults_i[i] = 0\n",
    "print(preds_model_defaults_i[preds_model_defaults_i<0])\n",
    "\n",
    "print(model_defaults_i.score(X_train_i, y_train_i), model_defaults_i.score(X_test_i, y_test_i))\n",
    "print(model_defaults_i.cv_results_['mean_test_score'])\n",
    "print(f\"{root_mean_squared_log_error(y_test_i, preds_model_defaults_i)} is the rmsle of {current_gender}\")\n",
    "print(f\"~\"*26)"
   ]
  },
  {
   "cell_type": "markdown",
   "id": "d61e13c9",
   "metadata": {},
   "source": [
    "Hmm, happy with females too but i is now so much lower.... Hmm, was the score when we didn't segregate them so much highr\n",
    "because we were also scoring simultaneously males and females?\n",
    "\n",
    "Recall the 'baseeline' was .058...; gender proportions being:\n",
    "I    0.365184\n",
    "M    0.342405\n",
    "F    0.292410\n",
    "\n",
    "Still... something weird is going on and hopfully I just made a mistake somewhere in the the coding. Ie forget even quoting previous things - like at the local data - I has a much much much higher r2, yet its rmsle is much worse...\n",
    "\n",
    "We'll brute our way through forests too..."
   ]
  },
  {
   "cell_type": "code",
   "execution_count": 6,
   "id": "d4306617",
   "metadata": {},
   "outputs": [
    {
     "name": "stdout",
     "output_type": "stream",
     "text": [
      "[]\n",
      "0.9343130583564948 0.5491228686995352\n",
      "0.05067057900971129 is the rmsle of males\n",
      "~~~~~~~~~~~~~~~~~~~~~~~~~~\n",
      "[]\n",
      "0.9246620030425811 0.4711484328439606\n",
      "0.05263629846472247 is the rmsle of females\n",
      "~~~~~~~~~~~~~~~~~~~~~~~~~~\n",
      "[]\n",
      "0.9525678183393625 0.6578880832575142\n",
      "0.05945976064120366 is the rmsle of indetermined\n",
      "~~~~~~~~~~~~~~~~~~~~~~~~~~\n"
     ]
    }
   ],
   "source": [
    "#And now the moment of truth!\n",
    "\n",
    "current_gender = \"males\"\n",
    "\n",
    "rf = RandomForestRegressor(random_state=26) #Hmm, apparently no cutom....guess I'll just leave as is.\n",
    "\n",
    "model_defaults_m = rf.fit(X_train_m, y_train_m)\n",
    "\n",
    "preds_model_defaults_m = model_defaults_m.predict(X_test_m)\n",
    "\n",
    "for i in range(len(preds_model_defaults_m)):\n",
    "    if preds_model_defaults_m[i] < 0:\n",
    "        preds_model_defaults_m[i] = 0\n",
    "print(preds_model_defaults_m[preds_model_defaults_m<0])\n",
    "\n",
    "print(model_defaults_m.score(X_train_m, y_train_m), model_defaults_m.score(X_test_m, y_test_m))\n",
    "print(f\"{root_mean_squared_log_error(y_test_m, preds_model_defaults_m)} is the rmsle of {current_gender}\")\n",
    "print(f\"~\"*26)\n",
    "\n",
    "###########################################\n",
    "\n",
    "current_gender = \"females\"\n",
    "\n",
    "rf = RandomForestRegressor(random_state=26)\n",
    "\n",
    "model_defaults_f = rf.fit(X_train_f, y_train_f)\n",
    "\n",
    "preds_model_defaults_f = model_defaults_f.predict(X_test_f)\n",
    "\n",
    "for i in range(len(preds_model_defaults_f)):\n",
    "    if preds_model_defaults_f[i] < 0:\n",
    "        preds_model_defaults_f[i] = 0\n",
    "print(preds_model_defaults_f[preds_model_defaults_f<0])\n",
    "\n",
    "print(model_defaults_f.score(X_train_f, y_train_f), model_defaults_f.score(X_test_f, y_test_f))\n",
    "print(f\"{root_mean_squared_log_error(y_test_f, preds_model_defaults_f)} is the rmsle of {current_gender}\")\n",
    "print(f\"~\"*26)\n",
    "\n",
    "###########################################\n",
    "\n",
    "current_gender = \"indetermined\" #Oh, that's spelled with a U. Oh well.\n",
    "\n",
    "rf = RandomForestRegressor(random_state=26)\n",
    "\n",
    "model_defaults_i = rf.fit(X_train_i, y_train_i)\n",
    "\n",
    "preds_model_defaults_i = model_defaults_i.predict(X_test_i)\n",
    "\n",
    "for i in range(len(preds_model_defaults_i)):\n",
    "    if preds_model_defaults_i[i] < 0:\n",
    "        preds_model_defaults_i[i] = 0\n",
    "print(preds_model_defaults_i[preds_model_defaults_i<0])\n",
    "\n",
    "print(model_defaults_i.score(X_train_i, y_train_i), model_defaults_i.score(X_test_i, y_test_i))\n",
    "print(f\"{root_mean_squared_log_error(y_test_i, preds_model_defaults_i)} is the rmsle of {current_gender}\")\n",
    "print(f\"~\"*26)"
   ]
  },
  {
   "cell_type": "markdown",
   "id": "17f98bac",
   "metadata": {},
   "source": [
    "Better all around, but once again I'm just quite confused at the discrepencies. Likely this is where domain knowledge would be key..."
   ]
  },
  {
   "cell_type": "code",
   "execution_count": null,
   "id": "7b0398b1",
   "metadata": {},
   "outputs": [],
   "source": []
  },
  {
   "cell_type": "code",
   "execution_count": 7,
   "id": "9ae4036b",
   "metadata": {},
   "outputs": [],
   "source": [
    "submission_model_m = model_defaults_m\n",
    "submission_model_f = model_defaults_f\n",
    "submission_model_i = model_defaults_i"
   ]
  },
  {
   "cell_type": "code",
   "execution_count": 8,
   "id": "6b8d1e23",
   "metadata": {},
   "outputs": [
    {
     "name": "stdout",
     "output_type": "stream",
     "text": [
      "(60411, 10)\n"
     ]
    },
    {
     "data": {
      "text/html": [
       "<div>\n",
       "<style scoped>\n",
       "    .dataframe tbody tr th:only-of-type {\n",
       "        vertical-align: middle;\n",
       "    }\n",
       "\n",
       "    .dataframe tbody tr th {\n",
       "        vertical-align: top;\n",
       "    }\n",
       "\n",
       "    .dataframe thead th {\n",
       "        text-align: right;\n",
       "    }\n",
       "</style>\n",
       "<table border=\"1\" class=\"dataframe\">\n",
       "  <thead>\n",
       "    <tr style=\"text-align: right;\">\n",
       "      <th></th>\n",
       "      <th>id</th>\n",
       "      <th>length</th>\n",
       "      <th>diameter</th>\n",
       "      <th>height</th>\n",
       "      <th>whole_weight</th>\n",
       "      <th>whole_weight1</th>\n",
       "      <th>whole_weight2</th>\n",
       "      <th>shell_weight</th>\n",
       "      <th>sex_I</th>\n",
       "      <th>sex_M</th>\n",
       "    </tr>\n",
       "  </thead>\n",
       "  <tbody>\n",
       "    <tr>\n",
       "      <th>0</th>\n",
       "      <td>90615</td>\n",
       "      <td>0.645</td>\n",
       "      <td>0.475</td>\n",
       "      <td>0.155</td>\n",
       "      <td>1.2380</td>\n",
       "      <td>0.6185</td>\n",
       "      <td>0.3125</td>\n",
       "      <td>0.3005</td>\n",
       "      <td>0</td>\n",
       "      <td>1</td>\n",
       "    </tr>\n",
       "    <tr>\n",
       "      <th>1</th>\n",
       "      <td>90616</td>\n",
       "      <td>0.580</td>\n",
       "      <td>0.460</td>\n",
       "      <td>0.160</td>\n",
       "      <td>0.9830</td>\n",
       "      <td>0.4785</td>\n",
       "      <td>0.2195</td>\n",
       "      <td>0.2750</td>\n",
       "      <td>0</td>\n",
       "      <td>1</td>\n",
       "    </tr>\n",
       "    <tr>\n",
       "      <th>2</th>\n",
       "      <td>90617</td>\n",
       "      <td>0.560</td>\n",
       "      <td>0.420</td>\n",
       "      <td>0.140</td>\n",
       "      <td>0.8395</td>\n",
       "      <td>0.3525</td>\n",
       "      <td>0.1845</td>\n",
       "      <td>0.2405</td>\n",
       "      <td>0</td>\n",
       "      <td>1</td>\n",
       "    </tr>\n",
       "    <tr>\n",
       "      <th>3</th>\n",
       "      <td>90618</td>\n",
       "      <td>0.570</td>\n",
       "      <td>0.490</td>\n",
       "      <td>0.145</td>\n",
       "      <td>0.8740</td>\n",
       "      <td>0.3525</td>\n",
       "      <td>0.1865</td>\n",
       "      <td>0.2350</td>\n",
       "      <td>0</td>\n",
       "      <td>1</td>\n",
       "    </tr>\n",
       "    <tr>\n",
       "      <th>4</th>\n",
       "      <td>90619</td>\n",
       "      <td>0.415</td>\n",
       "      <td>0.325</td>\n",
       "      <td>0.110</td>\n",
       "      <td>0.3580</td>\n",
       "      <td>0.1575</td>\n",
       "      <td>0.0670</td>\n",
       "      <td>0.1050</td>\n",
       "      <td>1</td>\n",
       "      <td>0</td>\n",
       "    </tr>\n",
       "  </tbody>\n",
       "</table>\n",
       "</div>"
      ],
      "text/plain": [
       "      id  length  diameter  height  whole_weight  whole_weight1  \\\n",
       "0  90615   0.645     0.475   0.155        1.2380         0.6185   \n",
       "1  90616   0.580     0.460   0.160        0.9830         0.4785   \n",
       "2  90617   0.560     0.420   0.140        0.8395         0.3525   \n",
       "3  90618   0.570     0.490   0.145        0.8740         0.3525   \n",
       "4  90619   0.415     0.325   0.110        0.3580         0.1575   \n",
       "\n",
       "   whole_weight2  shell_weight  sex_I  sex_M  \n",
       "0         0.3125        0.3005      0      1  \n",
       "1         0.2195        0.2750      0      1  \n",
       "2         0.1845        0.2405      0      1  \n",
       "3         0.1865        0.2350      0      1  \n",
       "4         0.0670        0.1050      1      0  "
      ]
     },
     "execution_count": 8,
     "metadata": {},
     "output_type": "execute_result"
    }
   ],
   "source": [
    "df_val = pd.read_csv('../data/cleaned_test.csv')\n",
    "df_val = pd.get_dummies(df_val, columns=['sex'], dtype=int, drop_first=True)\n",
    "print(df_val.shape)\n",
    "df_val.head()"
   ]
  },
  {
   "cell_type": "code",
   "execution_count": 12,
   "id": "5181343f",
   "metadata": {},
   "outputs": [
    {
     "name": "stderr",
     "output_type": "stream",
     "text": [
      "C:\\ProgramData\\anaconda3\\Lib\\site-packages\\pandas\\core\\internals\\blocks.py:329: RuntimeWarning: divide by zero encountered in log\n",
      "  result = func(self.values, **kwargs)\n"
     ]
    },
    {
     "data": {
      "text/html": [
       "<div>\n",
       "<style scoped>\n",
       "    .dataframe tbody tr th:only-of-type {\n",
       "        vertical-align: middle;\n",
       "    }\n",
       "\n",
       "    .dataframe tbody tr th {\n",
       "        vertical-align: top;\n",
       "    }\n",
       "\n",
       "    .dataframe thead th {\n",
       "        text-align: right;\n",
       "    }\n",
       "</style>\n",
       "<table border=\"1\" class=\"dataframe\">\n",
       "  <thead>\n",
       "    <tr style=\"text-align: right;\">\n",
       "      <th></th>\n",
       "      <th>id</th>\n",
       "      <th>length</th>\n",
       "      <th>diameter</th>\n",
       "      <th>height</th>\n",
       "      <th>whole_weight</th>\n",
       "      <th>whole_weight1</th>\n",
       "      <th>whole_weight2</th>\n",
       "      <th>shell_weight</th>\n",
       "      <th>sex_I</th>\n",
       "      <th>sex_M</th>\n",
       "    </tr>\n",
       "  </thead>\n",
       "  <tbody>\n",
       "    <tr>\n",
       "      <th>0</th>\n",
       "      <td>90615</td>\n",
       "      <td>-0.438505</td>\n",
       "      <td>-0.744440</td>\n",
       "      <td>-1.864330</td>\n",
       "      <td>0.213497</td>\n",
       "      <td>-0.480458</td>\n",
       "      <td>-1.163151</td>\n",
       "      <td>-1.202308</td>\n",
       "      <td>0</td>\n",
       "      <td>1</td>\n",
       "    </tr>\n",
       "    <tr>\n",
       "      <th>1</th>\n",
       "      <td>90616</td>\n",
       "      <td>-0.544727</td>\n",
       "      <td>-0.776529</td>\n",
       "      <td>-1.832581</td>\n",
       "      <td>-0.017146</td>\n",
       "      <td>-0.737099</td>\n",
       "      <td>-1.516403</td>\n",
       "      <td>-1.290984</td>\n",
       "      <td>0</td>\n",
       "      <td>1</td>\n",
       "    </tr>\n",
       "    <tr>\n",
       "      <th>2</th>\n",
       "      <td>90617</td>\n",
       "      <td>-0.579818</td>\n",
       "      <td>-0.867501</td>\n",
       "      <td>-1.966113</td>\n",
       "      <td>-0.174949</td>\n",
       "      <td>-1.042705</td>\n",
       "      <td>-1.690106</td>\n",
       "      <td>-1.425035</td>\n",
       "      <td>0</td>\n",
       "      <td>1</td>\n",
       "    </tr>\n",
       "    <tr>\n",
       "      <th>3</th>\n",
       "      <td>90618</td>\n",
       "      <td>-0.562119</td>\n",
       "      <td>-0.713350</td>\n",
       "      <td>-1.931022</td>\n",
       "      <td>-0.134675</td>\n",
       "      <td>-1.042705</td>\n",
       "      <td>-1.679324</td>\n",
       "      <td>-1.448170</td>\n",
       "      <td>0</td>\n",
       "      <td>1</td>\n",
       "    </tr>\n",
       "    <tr>\n",
       "      <th>4</th>\n",
       "      <td>90619</td>\n",
       "      <td>-0.879477</td>\n",
       "      <td>-1.123930</td>\n",
       "      <td>-2.207275</td>\n",
       "      <td>-1.027222</td>\n",
       "      <td>-1.848330</td>\n",
       "      <td>-2.703063</td>\n",
       "      <td>-2.253795</td>\n",
       "      <td>1</td>\n",
       "      <td>0</td>\n",
       "    </tr>\n",
       "  </tbody>\n",
       "</table>\n",
       "</div>"
      ],
      "text/plain": [
       "      id    length  diameter    height  whole_weight  whole_weight1  \\\n",
       "0  90615 -0.438505 -0.744440 -1.864330      0.213497      -0.480458   \n",
       "1  90616 -0.544727 -0.776529 -1.832581     -0.017146      -0.737099   \n",
       "2  90617 -0.579818 -0.867501 -1.966113     -0.174949      -1.042705   \n",
       "3  90618 -0.562119 -0.713350 -1.931022     -0.134675      -1.042705   \n",
       "4  90619 -0.879477 -1.123930 -2.207275     -1.027222      -1.848330   \n",
       "\n",
       "   whole_weight2  shell_weight  sex_I  sex_M  \n",
       "0      -1.163151     -1.202308      0      1  \n",
       "1      -1.516403     -1.290984      0      1  \n",
       "2      -1.690106     -1.425035      0      1  \n",
       "3      -1.679324     -1.448170      0      1  \n",
       "4      -2.703063     -2.253795      1      0  "
      ]
     },
     "execution_count": 12,
     "metadata": {},
     "output_type": "execute_result"
    }
   ],
   "source": [
    "df_log_val = np.log(df_val)\n",
    "\n",
    "df_log_val['sex_I'] = df_val['sex_I']\n",
    "df_log_val['sex_M'] = df_val['sex_M']\n",
    "df_log_val['id'] = df_val['id']\n",
    "\n",
    "df_log_val.head()"
   ]
  },
  {
   "cell_type": "code",
   "execution_count": 14,
   "id": "261f3a7a",
   "metadata": {},
   "outputs": [],
   "source": [
    "df_log_val_m = df_log_val[df_log_val['sex_M']==1] #We'll start with males and if this does super well then we'll bother for the rest.\n",
    "df_log_val_i = df_log_val[df_log_val['sex_I']==1]\n",
    "df_log_val_f = df_log_val[(df_log_val['sex_M']==0) & (df_log_val['sex_I']==0)]"
   ]
  },
  {
   "cell_type": "code",
   "execution_count": 15,
   "id": "7e349600",
   "metadata": {},
   "outputs": [],
   "source": [
    "X_m = df_log_val_m.drop(['id', 'sex_I', 'sex_M'], axis=1)\n",
    "\n",
    "X_val_m = mms.transform(X_m)\n",
    "\n",
    "X_f = df_log_val_f.drop(['id', 'sex_I', 'sex_M'], axis=1)\n",
    "\n",
    "X_val_f = mms.transform(X_f)\n",
    "\n",
    "X_i = df_log_val_i.drop(['id', 'sex_I', 'sex_M'], axis=1)\n",
    "\n",
    "X_val_i = mms.transform(X_i)"
   ]
  },
  {
   "cell_type": "code",
   "execution_count": 18,
   "id": "673d4009",
   "metadata": {},
   "outputs": [],
   "source": [
    "sub_m = pd.DataFrame(df_log_val_m['id'])\n",
    "sub_m['Rings'] = np.exp(submission_model_m.predict(X_val_m))\n",
    "\n",
    "sub_f = pd.DataFrame(df_log_val_f['id'])\n",
    "sub_f['Rings'] = np.exp(submission_model_f.predict(X_val_f))\n",
    "\n",
    "sub_i = pd.DataFrame(df_log_val_i['id'])\n",
    "sub_i['Rings'] = np.exp(submission_model_i.predict(X_val_i))"
   ]
  },
  {
   "cell_type": "code",
   "execution_count": 24,
   "id": "f756fc42",
   "metadata": {},
   "outputs": [
    {
     "data": {
      "text/html": [
       "<div>\n",
       "<style scoped>\n",
       "    .dataframe tbody tr th:only-of-type {\n",
       "        vertical-align: middle;\n",
       "    }\n",
       "\n",
       "    .dataframe tbody tr th {\n",
       "        vertical-align: top;\n",
       "    }\n",
       "\n",
       "    .dataframe thead th {\n",
       "        text-align: right;\n",
       "    }\n",
       "</style>\n",
       "<table border=\"1\" class=\"dataframe\">\n",
       "  <thead>\n",
       "    <tr style=\"text-align: right;\">\n",
       "      <th></th>\n",
       "      <th>id</th>\n",
       "      <th>Rings</th>\n",
       "    </tr>\n",
       "  </thead>\n",
       "  <tbody>\n",
       "    <tr>\n",
       "      <th>0</th>\n",
       "      <td>90615</td>\n",
       "      <td>10.544132</td>\n",
       "    </tr>\n",
       "    <tr>\n",
       "      <th>1</th>\n",
       "      <td>90616</td>\n",
       "      <td>11.122157</td>\n",
       "    </tr>\n",
       "    <tr>\n",
       "      <th>2</th>\n",
       "      <td>90617</td>\n",
       "      <td>9.373357</td>\n",
       "    </tr>\n",
       "    <tr>\n",
       "      <th>3</th>\n",
       "      <td>90618</td>\n",
       "      <td>9.838700</td>\n",
       "    </tr>\n",
       "    <tr>\n",
       "      <th>4</th>\n",
       "      <td>90619</td>\n",
       "      <td>7.550844</td>\n",
       "    </tr>\n",
       "  </tbody>\n",
       "</table>\n",
       "</div>"
      ],
      "text/plain": [
       "      id      Rings\n",
       "0  90615  10.544132\n",
       "1  90616  11.122157\n",
       "2  90617   9.373357\n",
       "3  90618   9.838700\n",
       "4  90619   7.550844"
      ]
     },
     "execution_count": 24,
     "metadata": {},
     "output_type": "execute_result"
    }
   ],
   "source": [
    "submission = pd.concat([sub_m, sub_f, sub_i]).sort_values('id')\n",
    "# submission['Rings'] = submission['Rings'].round(0)\n",
    "submission.head()"
   ]
  },
  {
   "cell_type": "code",
   "execution_count": 25,
   "id": "67b9f54c",
   "metadata": {},
   "outputs": [],
   "source": [
    "# submission.to_csv(\n",
    "#     '../data/submission_iii.csv', index=False)"
   ]
  },
  {
   "cell_type": "markdown",
   "id": "492217a3",
   "metadata": {},
   "source": [
    "And sadly, this had a much much much worse performance.... .18ish at the moment on Kaggle.... Hmm....whyshould this be? Even if gender isn't the most sigificant factor, by removing it and focusing within that cohort...\n",
    "\n",
    "Now, recall that perhaps a feature that was not provided is independent of gender and perhaps that feature is more accounted for when dealing with the population as a whole; eh, when basically we're trisecting the data, having like 30k each..."
   ]
  },
  {
   "cell_type": "markdown",
   "id": "98b86056",
   "metadata": {},
   "source": [
    "What remains is as follows:\n",
    "\n",
    "1) Be able to directly score with rmsle\n",
    "\n",
    "2) Try the hybrid of some factors logged; others polyied...\n",
    "\n",
    "3) Actually tune forests\n",
    "\n",
    "4) Be brave on my computer and try again SVR"
   ]
  },
  {
   "cell_type": "markdown",
   "id": "a65fb294",
   "metadata": {},
   "source": [
    "## A Final Idea to Try\n",
    "\n",
    "Well, depending upon how well this goes that might be a lie. However, I recalled another idea I discussed with Sonya in the past - breaking apart the model into multiple parts.\n",
    "\n",
    "So, we'll look for the most significant variable and split that into at least three parts. Re. the splitting - I suppose I'll first see if there's some simple package already that does this. Otherwise, I suppose I'll need to analyze all the variables to be used, declare them as strings first, and use them accordingly.\n",
    "\n",
    "Looked around a bit and didn't notice anything. So, I suppose we'll do this 'by hand', the way I prefer."
   ]
  },
  {
   "cell_type": "code",
   "execution_count": 10,
   "id": "6b82ba03",
   "metadata": {},
   "outputs": [
    {
     "data": {
      "text/plain": [
       "Index(['length', 'diameter', 'height', 'whole_weight', 'whole_weight1',\n",
       "       'whole_weight2', 'shell_weight', 'rings', 'sex_I', 'sex_M'],\n",
       "      dtype='object')"
      ]
     },
     "execution_count": 10,
     "metadata": {},
     "output_type": "execute_result"
    }
   ],
   "source": [
    "df_log.columns #At least per RFE they're all equally important... we obviously already did sex so we'll do \n",
    "#something else this time"
   ]
  },
  {
   "cell_type": "code",
   "execution_count": 12,
   "id": "4628f9f7",
   "metadata": {},
   "outputs": [
    {
     "data": {
      "text/plain": [
       "count    90609.000000\n",
       "mean        -0.692142\n",
       "std          0.272832\n",
       "min         -2.590267\n",
       "25%         -0.809681\n",
       "50%         -0.606969\n",
       "75%         -0.510826\n",
       "max         -0.204567\n",
       "Name: length, dtype: float64"
      ]
     },
     "execution_count": 12,
     "metadata": {},
     "output_type": "execute_result"
    }
   ],
   "source": [
    "df_log['length'].describe()"
   ]
  },
  {
   "cell_type": "code",
   "execution_count": 13,
   "id": "36ad309c",
   "metadata": {},
   "outputs": [
    {
     "data": {
      "text/plain": [
       "count    90609.000000\n",
       "mean        -0.949768\n",
       "std          0.294348\n",
       "min         -2.900422\n",
       "25%         -1.064211\n",
       "50%         -0.855666\n",
       "75%         -0.755023\n",
       "max         -0.430783\n",
       "Name: diameter, dtype: float64"
      ]
     },
     "execution_count": 13,
     "metadata": {},
     "output_type": "execute_result"
    }
   ],
   "source": [
    "df_log['diameter'].describe()"
   ]
  },
  {
   "cell_type": "code",
   "execution_count": 14,
   "id": "b61002d2",
   "metadata": {},
   "outputs": [
    {
     "data": {
      "text/plain": [
       "count    90609.000000\n",
       "mean        -2.045997\n",
       "std          0.327524\n",
       "min         -5.521461\n",
       "25%         -2.207275\n",
       "50%         -1.966113\n",
       "75%         -1.832581\n",
       "max          0.122218\n",
       "Name: height, dtype: float64"
      ]
     },
     "execution_count": 14,
     "metadata": {},
     "output_type": "execute_result"
    }
   ],
   "source": [
    "df_log['height'].describe()"
   ]
  },
  {
   "cell_type": "code",
   "execution_count": 15,
   "id": "ac37db63",
   "metadata": {},
   "outputs": [
    {
     "data": {
      "text/plain": [
       "count    90609.000000\n",
       "mean        -0.490958\n",
       "std          0.846047\n",
       "min         -6.214608\n",
       "25%         -0.868692\n",
       "50%         -0.223769\n",
       "75%          0.065319\n",
       "max          1.038685\n",
       "Name: whole_weight, dtype: float64"
      ]
     },
     "execution_count": 15,
     "metadata": {},
     "output_type": "execute_result"
    }
   ],
   "source": [
    "df_log['whole_weight'].describe()"
   ]
  },
  {
   "cell_type": "code",
   "execution_count": 17,
   "id": "8bd60c6a",
   "metadata": {},
   "outputs": [
    {
     "data": {
      "image/png": "[encoded data removed]",
      "text/plain": [
       "<Figure size 640x480 with 1 Axes>"
      ]
     },
     "metadata": {},
     "output_type": "display_data"
    }
   ],
   "source": [
    "plt.scatter(df_log['length'], df_log['rings']);"
   ]
  },
  {
   "cell_type": "code",
   "execution_count": 20,
   "id": "2f859965",
   "metadata": {},
   "outputs": [
    {
     "data": {
      "image/png": "[encoded data removed]",
      "text/plain": [
       "<Figure size 640x480 with 1 Axes>"
      ]
     },
     "metadata": {},
     "output_type": "display_data"
    }
   ],
   "source": [
    "plt.scatter(df_log['diameter'], df_log['rings']);"
   ]
  },
  {
   "cell_type": "code",
   "execution_count": 19,
   "id": "8c303bdc",
   "metadata": {},
   "outputs": [
    {
     "data": {
      "image/png": "[encoded data removed]",
      "text/plain": [
       "<Figure size 640x480 with 1 Axes>"
      ]
     },
     "metadata": {},
     "output_type": "display_data"
    }
   ],
   "source": [
    "plt.scatter(df_log['height'], df_log['rings']);"
   ]
  },
  {
   "cell_type": "code",
   "execution_count": 18,
   "id": "32534016",
   "metadata": {},
   "outputs": [
    {
     "data": {
      "image/png": "[encoded data removed]",
      "text/plain": [
       "<Figure size 640x480 with 1 Axes>"
      ]
     },
     "metadata": {},
     "output_type": "display_data"
    }
   ],
   "source": [
    "plt.scatter(df_log['whole_weight'], df_log['rings']);"
   ]
  },
  {
   "cell_type": "code",
   "execution_count": null,
   "id": "e3d47d15",
   "metadata": {},
   "outputs": [],
   "source": [
    "#Oh, in retrospect that would have been very interesting to view earlier... as notice that for all (save height) they're essetially\n",
    "#the same in structure... Even height is mimics the '<' esque shape, albeit more squished."
   ]
  },
  {
   "cell_type": "code",
   "execution_count": null,
   "id": "3d359489",
   "metadata": {},
   "outputs": [],
   "source": [
    "#First up will be getting together the dataframes"
   ]
  },
  {
   "cell_type": "code",
   "execution_count": 32,
   "id": "db6d10f9",
   "metadata": {},
   "outputs": [
    {
     "name": "stdout",
     "output_type": "stream",
     "text": [
      "So, for the record, we'll be dealing with 6 models.\n"
     ]
    }
   ],
   "source": [
    "#In retrospect shoudl chang the names into tables_df, tables_parts, etc.\n",
    "\n",
    "borders = [float('-inf'), -4, -3, -2, -1, 0, float('inf')]\n",
    "modeling_feature_focus = 'whole_weight'\n",
    "names_df = []\n",
    "\n",
    "for i in range(len(borders)-1):\n",
    "    names_df.append(f\"df_log_part_{i}\") #I think I'll need to do this in two parts\n",
    "\n",
    "print(f\"So, for the record, we'll be dealing with {len(names_df)} models.\")\n",
    "    \n",
    "for i in range(len(names_df)):\n",
    "    names_df[i] = df_log[df_log[modeling_feature_focus].between(borders[i],borders[i+1])]"
   ]
  },
  {
   "cell_type": "code",
   "execution_count": 36,
   "id": "deaee0fe",
   "metadata": {},
   "outputs": [],
   "source": [
    "parts_df = []\n",
    "for i in range(len(names_df)):\n",
    "    parts_df.append([])\n",
    "\n",
    "for i in range(len(names_df)):\n",
    "    parts_df[i].append(f\"X_{i}\")\n",
    "    parts_df[i].append(f\"y_{i}\")\n",
    "    parts_df[i].append(f\"X_train_{i}\")\n",
    "    parts_df[i].append(f\"X_test{i}\")\n",
    "    parts_df[i].append(f\"y_train{i}\")\n",
    "    parts_df[i].append(f\"y_test{i}\")\n",
    "    #Then we'll re-use pthe earlier X_trains: parts_df[i][2,3]"
   ]
  },
  {
   "cell_type": "code",
   "execution_count": 39,
   "id": "fff614ac",
   "metadata": {},
   "outputs": [],
   "source": [
    "for i in range(len(parts_df)):\n",
    "    parts_df[i][0] = names_df[i].drop('rings', axis=1)\n",
    "    parts_df[i][1] = names_df[i]['rings']\n",
    "    \n",
    "    parts_df[i][2],  parts_df[i][3], parts_df[i][4], parts_df[i][5] = train_test_split(parts_df[i][0], parts_df[i][1],\n",
    "                                                                                      test_size=.2, random_state=26)\n",
    "    \n",
    "    mms = MinMaxScaler()\n",
    "    parts_df[i][2] = mms.fit_transform(parts_df[i][2])\n",
    "    parts_df[i][3] = mms.transform(parts_df[i][3])"
   ]
  },
  {
   "cell_type": "code",
   "execution_count": 46,
   "id": "cb34e49d",
   "metadata": {},
   "outputs": [
    {
     "name": "stdout",
     "output_type": "stream",
     "text": [
      "0.8188718274792733 -0.08382218999955282\n",
      "0.0745495936418762 is the rmsle of part 0\n",
      "~~~~~~~~~~~~~~~~~~~~~~~~~~\n",
      "0.856127727657888 -0.03778900437357513\n",
      "0.08773108842288006 is the rmsle of part 1\n",
      "~~~~~~~~~~~~~~~~~~~~~~~~~~\n",
      "0.87267755749959 0.09484857232620758\n",
      "0.0804909790762586 is the rmsle of part 2\n",
      "~~~~~~~~~~~~~~~~~~~~~~~~~~\n",
      "0.8844003182368578 0.15465297274482692\n",
      "0.06873708007002009 is the rmsle of part 3\n",
      "~~~~~~~~~~~~~~~~~~~~~~~~~~\n",
      "0.9275421216784645 0.472640740080136\n",
      "0.052176412403794545 is the rmsle of part 4\n",
      "~~~~~~~~~~~~~~~~~~~~~~~~~~\n",
      "0.9279486894049043 0.48617560548191985\n",
      "0.04989946341253668 is the rmsle of part 5\n",
      "~~~~~~~~~~~~~~~~~~~~~~~~~~\n"
     ]
    }
   ],
   "source": [
    "#I'll jump ahead to Random Forests:\n",
    "\n",
    "models_df = []\n",
    "for i in range(len(names_df)):\n",
    "    models_df.append([])\n",
    "for i in range(len(names_df)):\n",
    "    models_df[i].append(f\"model_part_{i}\")\n",
    "    models_df[i].append(f\"preds_part_{i}\")\n",
    "\n",
    "#Names are prepared,so now let's do it\n",
    "for i in range(len(models_df)):\n",
    "    rf = RandomForestRegressor(random_state=26)\n",
    "    \n",
    "    models_df[i][0] = rf.fit(parts_df[i][2], parts_df[i][4])\n",
    "    \n",
    "    models_df[i][1] = models_df[i][0].predict(parts_df[i][3])\n",
    "\n",
    "    #Oh,just realized that when logging I don't need tow ory aobut this... oh well\n",
    "#     for i in range(len(preds_model_defaults_m)):\n",
    "#         if preds_model_defaults_m[i] < 0:\n",
    "#             preds_model_defaults_m[i] = 0\n",
    "#     print(preds_model_defaults_m[preds_model_defaults_m<0])\n",
    "\n",
    "    print(models_df[i][0].score(parts_df[i][2], parts_df[i][4]), models_df[i][0].score(parts_df[i][3], parts_df[i][5]))\n",
    "    print(f\"{root_mean_squared_log_error(parts_df[i][5], models_df[i][1])} is the rmsle of part {i}\")\n",
    "    print(f\"~\"*26)"
   ]
  },
  {
   "cell_type": "markdown",
   "id": "e9e4b076",
   "metadata": {},
   "source": [
    "Unsurprising that the R^2 is so poor on the first few as their size is so small that the model had an incredibly hard time predicting them.\n",
    "\n",
    "So, effectively we probably totally ostrocized the 'outliers', but perhaps we'll make that up with the rest.\n",
    "\n",
    "So, let us continue with a similar procedure to above for the test/validation data:"
   ]
  },
  {
   "cell_type": "code",
   "execution_count": null,
   "id": "bb9086a2",
   "metadata": {},
   "outputs": [],
   "source": []
  },
  {
   "cell_type": "code",
   "execution_count": null,
   "id": "1f3805b5",
   "metadata": {},
   "outputs": [],
   "source": []
  },
  {
   "cell_type": "code",
   "execution_count": null,
   "id": "5063f826",
   "metadata": {},
   "outputs": [],
   "source": []
  }
 ],
 "metadata": {
  "kernelspec": {
   "display_name": "Python 3 (ipykernel)",
   "language": "python",
   "name": "python3"
  },
  "language_info": {
   "codemirror_mode": {
    "name": "ipython",
    "version": 3
   },
   "file_extension": ".py",
   "mimetype": "text/x-python",
   "name": "python",
   "nbconvert_exporter": "python",
   "pygments_lexer": "ipython3",
   "version": "3.11.5"
  }
 },
 "nbformat": 4,
 "nbformat_minor": 5
}
