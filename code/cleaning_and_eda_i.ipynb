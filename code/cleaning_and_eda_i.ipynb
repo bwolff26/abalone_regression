{
 "cells": [
  {
   "cell_type": "markdown",
   "id": "35c3af72",
   "metadata": {},
   "source": [
    "As usual, we'll start with cleaning as I won't ever assume data is 'good to go' just because somebody handed it to me.\n",
    "\n",
    "As a heads up, I find it interesting their focus on RMSLE, something I honstly haven't heard of until a few minutes ago. Likely, a sign that we'll be seeing some logistic relationships, so a heads up on that."
   ]
  },
  {
   "cell_type": "code",
   "execution_count": 1,
   "id": "ff47ae39",
   "metadata": {},
   "outputs": [],
   "source": [
    "import pandas as pd\n",
    "import numpy as np"
   ]
  },
  {
   "cell_type": "code",
   "execution_count": 2,
   "id": "0bdabce4",
   "metadata": {},
   "outputs": [
    {
     "name": "stdout",
     "output_type": "stream",
     "text": [
      "(90615, 10)\n"
     ]
    },
    {
     "data": {
      "text/html": [
       "<div>\n",
       "<style scoped>\n",
       "    .dataframe tbody tr th:only-of-type {\n",
       "        vertical-align: middle;\n",
       "    }\n",
       "\n",
       "    .dataframe tbody tr th {\n",
       "        vertical-align: top;\n",
       "    }\n",
       "\n",
       "    .dataframe thead th {\n",
       "        text-align: right;\n",
       "    }\n",
       "</style>\n",
       "<table border=\"1\" class=\"dataframe\">\n",
       "  <thead>\n",
       "    <tr style=\"text-align: right;\">\n",
       "      <th></th>\n",
       "      <th>id</th>\n",
       "      <th>Sex</th>\n",
       "      <th>Length</th>\n",
       "      <th>Diameter</th>\n",
       "      <th>Height</th>\n",
       "      <th>Whole weight</th>\n",
       "      <th>Whole weight.1</th>\n",
       "      <th>Whole weight.2</th>\n",
       "      <th>Shell weight</th>\n",
       "      <th>Rings</th>\n",
       "    </tr>\n",
       "  </thead>\n",
       "  <tbody>\n",
       "    <tr>\n",
       "      <th>0</th>\n",
       "      <td>0</td>\n",
       "      <td>F</td>\n",
       "      <td>0.550</td>\n",
       "      <td>0.430</td>\n",
       "      <td>0.150</td>\n",
       "      <td>0.7715</td>\n",
       "      <td>0.3285</td>\n",
       "      <td>0.1465</td>\n",
       "      <td>0.2400</td>\n",
       "      <td>11</td>\n",
       "    </tr>\n",
       "    <tr>\n",
       "      <th>1</th>\n",
       "      <td>1</td>\n",
       "      <td>F</td>\n",
       "      <td>0.630</td>\n",
       "      <td>0.490</td>\n",
       "      <td>0.145</td>\n",
       "      <td>1.1300</td>\n",
       "      <td>0.4580</td>\n",
       "      <td>0.2765</td>\n",
       "      <td>0.3200</td>\n",
       "      <td>11</td>\n",
       "    </tr>\n",
       "    <tr>\n",
       "      <th>2</th>\n",
       "      <td>2</td>\n",
       "      <td>I</td>\n",
       "      <td>0.160</td>\n",
       "      <td>0.110</td>\n",
       "      <td>0.025</td>\n",
       "      <td>0.0210</td>\n",
       "      <td>0.0055</td>\n",
       "      <td>0.0030</td>\n",
       "      <td>0.0050</td>\n",
       "      <td>6</td>\n",
       "    </tr>\n",
       "    <tr>\n",
       "      <th>3</th>\n",
       "      <td>3</td>\n",
       "      <td>M</td>\n",
       "      <td>0.595</td>\n",
       "      <td>0.475</td>\n",
       "      <td>0.150</td>\n",
       "      <td>0.9145</td>\n",
       "      <td>0.3755</td>\n",
       "      <td>0.2055</td>\n",
       "      <td>0.2500</td>\n",
       "      <td>10</td>\n",
       "    </tr>\n",
       "    <tr>\n",
       "      <th>4</th>\n",
       "      <td>4</td>\n",
       "      <td>I</td>\n",
       "      <td>0.555</td>\n",
       "      <td>0.425</td>\n",
       "      <td>0.130</td>\n",
       "      <td>0.7820</td>\n",
       "      <td>0.3695</td>\n",
       "      <td>0.1600</td>\n",
       "      <td>0.1975</td>\n",
       "      <td>9</td>\n",
       "    </tr>\n",
       "  </tbody>\n",
       "</table>\n",
       "</div>"
      ],
      "text/plain": [
       "   id Sex  Length  Diameter  Height  Whole weight  Whole weight.1  \\\n",
       "0   0   F   0.550     0.430   0.150        0.7715          0.3285   \n",
       "1   1   F   0.630     0.490   0.145        1.1300          0.4580   \n",
       "2   2   I   0.160     0.110   0.025        0.0210          0.0055   \n",
       "3   3   M   0.595     0.475   0.150        0.9145          0.3755   \n",
       "4   4   I   0.555     0.425   0.130        0.7820          0.3695   \n",
       "\n",
       "   Whole weight.2  Shell weight  Rings  \n",
       "0          0.1465        0.2400     11  \n",
       "1          0.2765        0.3200     11  \n",
       "2          0.0030        0.0050      6  \n",
       "3          0.2055        0.2500     10  \n",
       "4          0.1600        0.1975      9  "
      ]
     },
     "execution_count": 2,
     "metadata": {},
     "output_type": "execute_result"
    }
   ],
   "source": [
    "df = pd.read_csv('../data/train.csv/train.csv')\n",
    "print(df.shape)\n",
    "df.head() #Quite a nice number of rows..."
   ]
  },
  {
   "cell_type": "code",
   "execution_count": 3,
   "id": "0632c01b",
   "metadata": {},
   "outputs": [
    {
     "data": {
      "text/plain": [
       "Index(['id', 'sex', 'length', 'diameter', 'height', 'whole_weight',\n",
       "       'whole_weight1', 'whole_weight2', 'shell_weight', 'rings'],\n",
       "      dtype='object')"
      ]
     },
     "execution_count": 3,
     "metadata": {},
     "output_type": "execute_result"
    }
   ],
   "source": [
    "df.columns = df.columns.str.lower()\n",
    "df.columns = df.columns.str.replace(' ', '_')\n",
    "df.columns = df.columns.str.replace('.', '')\n",
    "df.columns"
   ]
  },
  {
   "cell_type": "code",
   "execution_count": 4,
   "id": "f742d0a1",
   "metadata": {},
   "outputs": [],
   "source": [
    "# if len(df['id'].unique()) == df.shape[0]:\n",
    "#     df = df.drop(['id'], axis=1) #Not adding anything to our model... Hmm, now that I think about it, let's make this better:\n",
    "# else:\n",
    "#     print(len(df['id'].unique()))"
   ]
  },
  {
   "cell_type": "code",
   "execution_count": 5,
   "id": "b39f6003",
   "metadata": {},
   "outputs": [
    {
     "name": "stdout",
     "output_type": "stream",
     "text": [
      "Just dropped id as it wasn't adding any value whatsoever to our model.\n",
      "Well, sex has 3 unique fields, so we'll keep it...for now!\n",
      "Well, length has 157 unique fields, so we'll keep it...for now!\n",
      "Well, diameter has 126 unique fields, so we'll keep it...for now!\n",
      "Well, height has 90 unique fields, so we'll keep it...for now!\n",
      "Well, whole_weight has 3175 unique fields, so we'll keep it...for now!\n",
      "Well, whole_weight1 has 1799 unique fields, so we'll keep it...for now!\n",
      "Well, whole_weight2 has 979 unique fields, so we'll keep it...for now!\n",
      "Well, shell_weight has 1129 unique fields, so we'll keep it...for now!\n",
      "Well, rings has 28 unique fields, so we'll keep it...for now!\n"
     ]
    }
   ],
   "source": [
    "for i in df.columns:\n",
    "    if len(df[i].unique()) == df.shape[0]:\n",
    "        df = df.drop([i], axis=1) #Not adding anything to our model... Hmm, now that I think about it, let's make this better:\n",
    "        print(f\"Just dropped {i} as it wasn't adding any value whatsoever to our model.\")\n",
    "    else:\n",
    "        print(f\"Well, {i} has {len(df[i].unique())} unique fields, so we'll keep it...for now!\")\n",
    "\n",
    "#And, on the topic we see all the unique fields too for everything.... Might have to have a different\n",
    "#approach for larger datasets, but for now... So, pragmatically sex would be the only categorical variable."
   ]
  },
  {
   "cell_type": "code",
   "execution_count": 6,
   "id": "22bccaf0",
   "metadata": {},
   "outputs": [
    {
     "data": {
      "text/html": [
       "<div>\n",
       "<style scoped>\n",
       "    .dataframe tbody tr th:only-of-type {\n",
       "        vertical-align: middle;\n",
       "    }\n",
       "\n",
       "    .dataframe tbody tr th {\n",
       "        vertical-align: top;\n",
       "    }\n",
       "\n",
       "    .dataframe thead th {\n",
       "        text-align: right;\n",
       "    }\n",
       "</style>\n",
       "<table border=\"1\" class=\"dataframe\">\n",
       "  <thead>\n",
       "    <tr style=\"text-align: right;\">\n",
       "      <th></th>\n",
       "      <th>sex</th>\n",
       "      <th>length</th>\n",
       "      <th>diameter</th>\n",
       "      <th>height</th>\n",
       "      <th>whole_weight</th>\n",
       "      <th>whole_weight1</th>\n",
       "      <th>whole_weight2</th>\n",
       "      <th>shell_weight</th>\n",
       "      <th>rings</th>\n",
       "    </tr>\n",
       "  </thead>\n",
       "  <tbody>\n",
       "    <tr>\n",
       "      <th>0</th>\n",
       "      <td>F</td>\n",
       "      <td>0.550</td>\n",
       "      <td>0.430</td>\n",
       "      <td>0.150</td>\n",
       "      <td>0.7715</td>\n",
       "      <td>0.3285</td>\n",
       "      <td>0.1465</td>\n",
       "      <td>0.2400</td>\n",
       "      <td>11</td>\n",
       "    </tr>\n",
       "    <tr>\n",
       "      <th>1</th>\n",
       "      <td>F</td>\n",
       "      <td>0.630</td>\n",
       "      <td>0.490</td>\n",
       "      <td>0.145</td>\n",
       "      <td>1.1300</td>\n",
       "      <td>0.4580</td>\n",
       "      <td>0.2765</td>\n",
       "      <td>0.3200</td>\n",
       "      <td>11</td>\n",
       "    </tr>\n",
       "    <tr>\n",
       "      <th>2</th>\n",
       "      <td>I</td>\n",
       "      <td>0.160</td>\n",
       "      <td>0.110</td>\n",
       "      <td>0.025</td>\n",
       "      <td>0.0210</td>\n",
       "      <td>0.0055</td>\n",
       "      <td>0.0030</td>\n",
       "      <td>0.0050</td>\n",
       "      <td>6</td>\n",
       "    </tr>\n",
       "    <tr>\n",
       "      <th>3</th>\n",
       "      <td>M</td>\n",
       "      <td>0.595</td>\n",
       "      <td>0.475</td>\n",
       "      <td>0.150</td>\n",
       "      <td>0.9145</td>\n",
       "      <td>0.3755</td>\n",
       "      <td>0.2055</td>\n",
       "      <td>0.2500</td>\n",
       "      <td>10</td>\n",
       "    </tr>\n",
       "    <tr>\n",
       "      <th>4</th>\n",
       "      <td>I</td>\n",
       "      <td>0.555</td>\n",
       "      <td>0.425</td>\n",
       "      <td>0.130</td>\n",
       "      <td>0.7820</td>\n",
       "      <td>0.3695</td>\n",
       "      <td>0.1600</td>\n",
       "      <td>0.1975</td>\n",
       "      <td>9</td>\n",
       "    </tr>\n",
       "  </tbody>\n",
       "</table>\n",
       "</div>"
      ],
      "text/plain": [
       "  sex  length  diameter  height  whole_weight  whole_weight1  whole_weight2  \\\n",
       "0   F   0.550     0.430   0.150        0.7715         0.3285         0.1465   \n",
       "1   F   0.630     0.490   0.145        1.1300         0.4580         0.2765   \n",
       "2   I   0.160     0.110   0.025        0.0210         0.0055         0.0030   \n",
       "3   M   0.595     0.475   0.150        0.9145         0.3755         0.2055   \n",
       "4   I   0.555     0.425   0.130        0.7820         0.3695         0.1600   \n",
       "\n",
       "   shell_weight  rings  \n",
       "0        0.2400     11  \n",
       "1        0.3200     11  \n",
       "2        0.0050      6  \n",
       "3        0.2500     10  \n",
       "4        0.1975      9  "
      ]
     },
     "execution_count": 6,
     "metadata": {},
     "output_type": "execute_result"
    }
   ],
   "source": [
    "df.head()"
   ]
  },
  {
   "cell_type": "code",
   "execution_count": 7,
   "id": "722e9816",
   "metadata": {},
   "outputs": [
    {
     "name": "stdout",
     "output_type": "stream",
     "text": [
      "Phew no nulls.\n"
     ]
    }
   ],
   "source": [
    "#Oh, before I get too excited let's check for nulls:\n",
    "if sum(df.isnull().sum())==0:\n",
    "    print(\"Phew, no nulls.\")\n",
    "else:\n",
    "    print(df.columns[df.isnull().any()]) #Honestly thanks to leplandelavile of Stackoverflow for the code for this.... I knew\n",
    "    #we could find something elegant like this,a s opposed to looping through each column..."
   ]
  },
  {
   "cell_type": "code",
   "execution_count": 8,
   "id": "8d0643e2",
   "metadata": {},
   "outputs": [],
   "source": [
    "# df.loc[df.shape[0]] = [\"F\", 0,0,0,0,0,0,0, np.nan]\n",
    "# df.loc[df.shape[0]-1]"
   ]
  },
  {
   "cell_type": "markdown",
   "id": "dec5f453",
   "metadata": {},
   "source": [
    "Given that we only have on categorical vaiable, we'll just look at that plainly:"
   ]
  },
  {
   "cell_type": "code",
   "execution_count": 9,
   "id": "00755f30",
   "metadata": {},
   "outputs": [
    {
     "data": {
      "text/plain": [
       "sex\n",
       "I    0.365204\n",
       "M    0.342405\n",
       "F    0.292391\n",
       "Name: proportion, dtype: float64"
      ]
     },
     "execution_count": 9,
     "metadata": {},
     "output_type": "execute_result"
    }
   ],
   "source": [
    "df['sex'].value_counts(normalize=True) #Oh interesting, I is actually the majority, then a decent bit more males than females.\n",
    "#Would be interesting to see their sampling methods."
   ]
  },
  {
   "cell_type": "code",
   "execution_count": 29,
   "id": "54bd93b7",
   "metadata": {},
   "outputs": [
    {
     "data": {
      "text/plain": [
       "sex               object\n",
       "length           float64\n",
       "diameter         float64\n",
       "height           float64\n",
       "whole_weight     float64\n",
       "whole_weight1    float64\n",
       "whole_weight2    float64\n",
       "shell_weight     float64\n",
       "rings              int64\n",
       "dtype: object"
      ]
     },
     "execution_count": 29,
     "metadata": {},
     "output_type": "execute_result"
    }
   ],
   "source": [
    "#Before we look at sex x other stuff, let's examine the other columns:\n",
    "df.dtypes"
   ]
  },
  {
   "cell_type": "code",
   "execution_count": 38,
   "id": "ebb1e8cb",
   "metadata": {},
   "outputs": [
    {
     "name": "stdout",
     "output_type": "stream",
     "text": [
      "length\n",
      "count    90615.000000\n",
      "mean         0.517098\n",
      "std          0.118217\n",
      "min          0.075000\n",
      "25%          0.445000\n",
      "50%          0.545000\n",
      "75%          0.600000\n",
      "max          0.815000\n",
      "Name: length, dtype: float64\n",
      "~~~~~~~~~~~~~~~~~~~~~~~~~~\n",
      "diameter\n",
      "count    90615.000000\n",
      "mean         0.401679\n",
      "std          0.098026\n",
      "min          0.055000\n",
      "25%          0.345000\n",
      "50%          0.425000\n",
      "75%          0.470000\n",
      "max          0.650000\n",
      "Name: diameter, dtype: float64\n",
      "~~~~~~~~~~~~~~~~~~~~~~~~~~\n",
      "height\n",
      "count    90615.000000\n",
      "mean         0.135464\n",
      "std          0.038008\n",
      "min          0.000000\n",
      "25%          0.110000\n",
      "50%          0.140000\n",
      "75%          0.160000\n",
      "max          1.130000\n",
      "Name: height, dtype: float64\n",
      "~~~~~~~~~~~~~~~~~~~~~~~~~~\n"
     ]
    }
   ],
   "source": [
    "for i in df.columns[:4]:\n",
    "    if df[i].dtypes != 'object':\n",
    "        print(f\"{i}\")\n",
    "        print(df[i].describe())\n",
    "        print(f\"~\"*26)"
   ]
  },
  {
   "cell_type": "markdown",
   "id": "3dcab793",
   "metadata": {},
   "source": [
    "Length is slightly skewed to the left.\n",
    "\n",
    "So too with diameter. Now, I did a quick Google search of these creatures I've never even heard of until this competition, and typical pictures show them to have an ovalish shape. So, I'm quite confused. I later looked on the original dataset to find that length is'longest shell measurement' while diameter is somehow 'perpendicular to length'. Regardless, we continue.\n",
    "\n",
    "On the topic of definitions: The three weights correspond to whole, shucked, and viscera weight. Rings correspond to 1.5 years of additional life.\n",
    "\n",
    "And, height is also skewed to left. Perhaps all the leftists are a trend we'll see more and more. Perhaps we should comment more on that, but for now:"
   ]
  },
  {
   "cell_type": "code",
   "execution_count": 40,
   "id": "b009a4b8",
   "metadata": {},
   "outputs": [
    {
     "name": "stdout",
     "output_type": "stream",
     "text": [
      "whole_weight\n",
      "count    90615.000000\n",
      "mean         0.789035\n",
      "std          0.457671\n",
      "min          0.002000\n",
      "25%          0.419000\n",
      "50%          0.799500\n",
      "75%          1.067500\n",
      "max          2.825500\n",
      "Name: whole_weight, dtype: float64\n",
      "~~~~~~~~~~~~~~~~~~~~~~~~~~\n",
      "whole_weight1\n",
      "count    90615.000000\n",
      "mean         0.340778\n",
      "std          0.204428\n",
      "min          0.001000\n",
      "25%          0.177500\n",
      "50%          0.330000\n",
      "75%          0.463000\n",
      "max          1.488000\n",
      "Name: whole_weight1, dtype: float64\n",
      "~~~~~~~~~~~~~~~~~~~~~~~~~~\n",
      "whole_weight2\n",
      "count    90615.000000\n",
      "mean         0.169422\n",
      "std          0.100909\n",
      "min          0.000500\n",
      "25%          0.086500\n",
      "50%          0.166000\n",
      "75%          0.232500\n",
      "max          0.760000\n",
      "Name: whole_weight2, dtype: float64\n",
      "~~~~~~~~~~~~~~~~~~~~~~~~~~\n",
      "shell_weight\n",
      "count    90615.000000\n",
      "mean         0.225898\n",
      "std          0.130203\n",
      "min          0.001500\n",
      "25%          0.120000\n",
      "50%          0.225000\n",
      "75%          0.305000\n",
      "max          1.005000\n",
      "Name: shell_weight, dtype: float64\n",
      "~~~~~~~~~~~~~~~~~~~~~~~~~~\n",
      "rings\n",
      "count    90615.000000\n",
      "mean         9.696794\n",
      "std          3.176221\n",
      "min          1.000000\n",
      "25%          8.000000\n",
      "50%          9.000000\n",
      "75%         11.000000\n",
      "max         29.000000\n",
      "Name: rings, dtype: float64\n",
      "~~~~~~~~~~~~~~~~~~~~~~~~~~\n"
     ]
    }
   ],
   "source": [
    "for i in df.columns[4:]:\n",
    "    if df[i].dtypes != 'object':\n",
    "        print(f\"{i}\")\n",
    "        print(df[i].describe())\n",
    "        print(f\"~\"*26)"
   ]
  },
  {
   "cell_type": "markdown",
   "id": "919b0f83",
   "metadata": {},
   "source": [
    "Hmm, now this is quite surprising, (Whole Weight) 0 is ever so slightly skewed to the left;the trend changes when we get into 1 and is still slightly retained at 2 (recall the much lower standard deviations. Pragmatically, I wouldn't be too surprised as I'd imagine that the most varity would occur with the shells, being as dense as they are.\n",
    "\n",
    "Shell weight appars approximately normal, not accounting for kurtosis\n",
    "\n",
    "And, finally, rings are to the right. Being an indication of ag, I am unsurprised even in this different environment to see 'those few old guys' prop up again."
   ]
  },
  {
   "cell_type": "markdown",
   "id": "5f2337bc",
   "metadata": {},
   "source": [
    "Likely visualization would be the way to go, but eh, I'm a numbers guy... Especially when we'll be doing so many feature engineerings... maybe relevant for log transformations later."
   ]
  },
  {
   "cell_type": "code",
   "execution_count": 41,
   "id": "7d13fd24",
   "metadata": {},
   "outputs": [
    {
     "name": "stdout",
     "output_type": "stream",
     "text": [
      "sex on length\n",
      "       count      mean       std    min    25%    50%    75%    max\n",
      "sex                                                                \n",
      "F    26495.0  0.584330  0.071348  0.230  0.545  0.585  0.630  0.815\n",
      "I    33093.0  0.414792  0.104592  0.075  0.345  0.425  0.495  0.770\n",
      "M    31027.0  0.568806  0.084280  0.090  0.530  0.575  0.620  0.815\n",
      "~~~~~~~~~~~~~~~~~~~~~~~~~~\n",
      "sex on diameter\n",
      "       count      mean       std    min    25%    50%    75%    max\n",
      "sex                                                                \n",
      "F    26495.0  0.458219  0.059050  0.130  0.425  0.460  0.500  0.635\n",
      "I    33093.0  0.315766  0.085249  0.055  0.260  0.325  0.380  0.600\n",
      "M    31027.0  0.445032  0.069665  0.090  0.415  0.450  0.485  0.650\n",
      "~~~~~~~~~~~~~~~~~~~~~~~~~~\n",
      "sex on height\n",
      "       count      mean       std   min    25%    50%    75%   max\n",
      "sex                                                              \n",
      "F    26495.0  0.157194  0.027658  0.05  0.140  0.155  0.175  1.13\n",
      "I    33093.0  0.103129  0.029335  0.00  0.085  0.100  0.125  0.23\n",
      "M    31027.0  0.151396  0.029591  0.00  0.135  0.150  0.170  1.13\n",
      "~~~~~~~~~~~~~~~~~~~~~~~~~~\n"
     ]
    }
   ],
   "source": [
    "#Now, let's see what changes when we divide them up by category.\n",
    "\n",
    "focus  = ['sex']\n",
    "for i in focus:\n",
    "    for c in df.columns[:4]:\n",
    "        if c != i:\n",
    "            print(f\"{i} on {c}\")\n",
    "            print(df.groupby(i)[c].describe())\n",
    "            print(f\"~\"*26)\n",
    "#Hmm, I wonder if it might be useful to have by it the baseline of df[c].describe() as well. Oh well."
   ]
  },
  {
   "cell_type": "markdown",
   "id": "72f47c0e",
   "metadata": {},
   "source": [
    "I'll only bother to write things that significantly pop out.\n",
    "\n",
    "And, right off th bat we see Is ae much shorter inlength, diameter, and height than hte others.... Hmm, so yeah, that definitely seems like that will be a significant factor. Of special note on hat font are their heights: While their medians aren't toooooo different (well, 50%...), the max is approximately a sixth of the others... \n",
    "\n",
    "Also interesting to see in this species the larger diemsnions associated with females, likely associated with how they breed."
   ]
  },
  {
   "cell_type": "code",
   "execution_count": 42,
   "id": "e08e8fa8",
   "metadata": {},
   "outputs": [
    {
     "name": "stdout",
     "output_type": "stream",
     "text": [
      "sex on whole_weight\n",
      "       count      mean       std     min     25%     50%     75%     max\n",
      "sex                                                                     \n",
      "F    26495.0  1.051711  0.377650  0.0340  0.8130  1.0070  1.2800  2.8255\n",
      "I    33093.0  0.396115  0.261157  0.0020  0.1870  0.3565  0.5730  2.7795\n",
      "M    31027.0  0.983810  0.394574  0.0095  0.7635  0.9555  1.1785  2.8255\n",
      "~~~~~~~~~~~~~~~~~~~~~~~~~~\n",
      "sex on whole_weight1\n",
      "       count      mean       std     min     25%     50%     75%     max\n",
      "sex                                                                     \n",
      "F    26495.0  0.449880  0.175309  0.0145  0.3285  0.4305  0.5495  1.2695\n",
      "I    33093.0  0.173873  0.117814  0.0010  0.0785  0.1575  0.2500  1.1455\n",
      "M    31027.0  0.425631  0.184193  0.0035  0.3125  0.4070  0.5265  1.4880\n",
      "~~~~~~~~~~~~~~~~~~~~~~~~~~\n",
      "sex on whole_weight2\n",
      "       count      mean       std     min     25%     50%     75%    max\n",
      "sex                                                                    \n",
      "F    26495.0  0.227631  0.084946  0.0080  0.1705  0.2175  0.2815  0.590\n",
      "I    33093.0  0.083415  0.056068  0.0005  0.0390  0.0735  0.1185  0.548\n",
      "M    31027.0  0.211449  0.087605  0.0015  0.1590  0.2035  0.2615  0.760\n",
      "~~~~~~~~~~~~~~~~~~~~~~~~~~\n",
      "sex on shell_weight\n",
      "       count      mean       std     min    25%    50%     75%    max\n",
      "sex                                                                  \n",
      "F    26495.0  0.301273  0.107665  0.0090  0.232  0.287  0.3650  0.897\n",
      "I    33093.0  0.114645  0.075507  0.0015  0.056  0.100  0.1615  0.885\n",
      "M    31027.0  0.280194  0.111943  0.0015  0.215  0.270  0.3400  1.005\n",
      "~~~~~~~~~~~~~~~~~~~~~~~~~~\n",
      "sex on rings\n",
      "       count       mean       std  min  25%   50%   75%   max\n",
      "sex                                                          \n",
      "F    26495.0  11.161389  3.021624  1.0  9.0  10.0  12.0  29.0\n",
      "I    33093.0   7.533557  2.131495  1.0  6.0   7.0   8.0  29.0\n",
      "M    31027.0  10.753408  2.980265  1.0  9.0  10.0  12.0  29.0\n",
      "~~~~~~~~~~~~~~~~~~~~~~~~~~\n"
     ]
    }
   ],
   "source": [
    "focus  = ['sex']\n",
    "for i in focus:\n",
    "    for c in df.columns[4:]:\n",
    "        if c != i:\n",
    "            print(f\"{i} on {c}\")\n",
    "            print(df.groupby(i)[c].describe())\n",
    "            print(f\"~\"*26)"
   ]
  },
  {
   "cell_type": "markdown",
   "id": "9d84e97a",
   "metadata": {},
   "source": [
    "Unsuprisingly per the earlier columns the lsser weight associated with Is. However, their maxes are quite close. And, e the max of male W2 - likely an outlier given hterest of the data with females weighing more (likelya similar matter re. shell wieght's max male weight).\n",
    "\n",
    "And, the final piece of th data that I was inclined to assume: Notice the much youngr Is re. rings - per medians 3 rings ie 4.5 years younger! So, naturally given that it would make sense for everything to be lower... Ie I'm assuming a continued growth, at whatever rate (linear, logistic, etc.), as time ie rings go on. And, for whatever reason, that is not occuring with Is, hence their typically lower dimensions across the board.\n",
    "\n",
    "A final piece of curiousity is the disproportionate amount of the classes: While we certainly have quite a large amount of females, they're approximately 5% less than the next largest group of males...Is this an indication that naturally occuring in nature there aren't enough females for all the males? Do Is take care of that? Given the disproportion, does this lead to one group(s) dying earlier or later? On that note, does it lad to one group(s) living differently to change its dimensions?"
   ]
  },
  {
   "cell_type": "code",
   "execution_count": 43,
   "id": "2a0bea71",
   "metadata": {},
   "outputs": [
    {
     "data": {
      "text/plain": [
       "sex\n",
       "I    0.365204\n",
       "M    0.342405\n",
       "F    0.292391\n",
       "Name: proportion, dtype: float64"
      ]
     },
     "execution_count": 43,
     "metadata": {},
     "output_type": "execute_result"
    }
   ],
   "source": [
    "df['sex'].value_counts(normalize=True)"
   ]
  },
  {
   "cell_type": "markdown",
   "id": "d145af23",
   "metadata": {},
   "source": [
    "I might use this notebook to prep some images later, but for now we'll call this here; eh, we hardly used it. Let's go ahead and use it to generate new featur"
   ]
  },
  {
   "cell_type": "code",
   "execution_count": null,
   "id": "bf84b1e7",
   "metadata": {},
   "outputs": [],
   "source": []
  },
  {
   "cell_type": "code",
   "execution_count": null,
   "id": "03b023e0",
   "metadata": {},
   "outputs": [],
   "source": []
  },
  {
   "cell_type": "code",
   "execution_count": null,
   "id": "33d27286",
   "metadata": {},
   "outputs": [],
   "source": []
  },
  {
   "cell_type": "code",
   "execution_count": null,
   "id": "d636aabd",
   "metadata": {},
   "outputs": [],
   "source": []
  }
 ],
 "metadata": {
  "kernelspec": {
   "display_name": "Python 3 (ipykernel)",
   "language": "python",
   "name": "python3"
  },
  "language_info": {
   "codemirror_mode": {
    "name": "ipython",
    "version": 3
   },
   "file_extension": ".py",
   "mimetype": "text/x-python",
   "name": "python",
   "nbconvert_exporter": "python",
   "pygments_lexer": "ipython3",
   "version": "3.11.5"
  }
 },
 "nbformat": 4,
 "nbformat_minor": 5
}
