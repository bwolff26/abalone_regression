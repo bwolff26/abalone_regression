{
 "cells": [
  {
   "cell_type": "markdown",
   "id": "f1a1911c",
   "metadata": {},
   "source": [
    "As usual, we'll start with cleaning as I won't ever assume data is 'good to go' just because somebody handed it to me.\n",
    "\n",
    "As a heads up, I find it interesting their focus on RMSLE, something I honstly haven't heard of until a few minutes ago. Likely, a sign that we'll be seeing some logistic relationships, so a heads up on that."
   ]
  },
  {
   "cell_type": "code",
   "execution_count": 1,
   "id": "810c71b9",
   "metadata": {},
   "outputs": [],
   "source": [
    "import pandas as pd\n",
    "import numpy as np"
   ]
  },
  {
   "cell_type": "code",
   "execution_count": 2,
   "id": "942a20bb",
   "metadata": {},
   "outputs": [
    {
     "name": "stdout",
     "output_type": "stream",
     "text": [
      "(90615, 10)\n"
     ]
    },
    {
     "data": {
      "text/html": [
       "<div>\n",
       "<style scoped>\n",
       "    .dataframe tbody tr th:only-of-type {\n",
       "        vertical-align: middle;\n",
       "    }\n",
       "\n",
       "    .dataframe tbody tr th {\n",
       "        vertical-align: top;\n",
       "    }\n",
       "\n",
       "    .dataframe thead th {\n",
       "        text-align: right;\n",
       "    }\n",
       "</style>\n",
       "<table border=\"1\" class=\"dataframe\">\n",
       "  <thead>\n",
       "    <tr style=\"text-align: right;\">\n",
       "      <th></th>\n",
       "      <th>id</th>\n",
       "      <th>Sex</th>\n",
       "      <th>Length</th>\n",
       "      <th>Diameter</th>\n",
       "      <th>Height</th>\n",
       "      <th>Whole weight</th>\n",
       "      <th>Whole weight.1</th>\n",
       "      <th>Whole weight.2</th>\n",
       "      <th>Shell weight</th>\n",
       "      <th>Rings</th>\n",
       "    </tr>\n",
       "  </thead>\n",
       "  <tbody>\n",
       "    <tr>\n",
       "      <th>0</th>\n",
       "      <td>0</td>\n",
       "      <td>F</td>\n",
       "      <td>0.550</td>\n",
       "      <td>0.430</td>\n",
       "      <td>0.150</td>\n",
       "      <td>0.7715</td>\n",
       "      <td>0.3285</td>\n",
       "      <td>0.1465</td>\n",
       "      <td>0.2400</td>\n",
       "      <td>11</td>\n",
       "    </tr>\n",
       "    <tr>\n",
       "      <th>1</th>\n",
       "      <td>1</td>\n",
       "      <td>F</td>\n",
       "      <td>0.630</td>\n",
       "      <td>0.490</td>\n",
       "      <td>0.145</td>\n",
       "      <td>1.1300</td>\n",
       "      <td>0.4580</td>\n",
       "      <td>0.2765</td>\n",
       "      <td>0.3200</td>\n",
       "      <td>11</td>\n",
       "    </tr>\n",
       "    <tr>\n",
       "      <th>2</th>\n",
       "      <td>2</td>\n",
       "      <td>I</td>\n",
       "      <td>0.160</td>\n",
       "      <td>0.110</td>\n",
       "      <td>0.025</td>\n",
       "      <td>0.0210</td>\n",
       "      <td>0.0055</td>\n",
       "      <td>0.0030</td>\n",
       "      <td>0.0050</td>\n",
       "      <td>6</td>\n",
       "    </tr>\n",
       "    <tr>\n",
       "      <th>3</th>\n",
       "      <td>3</td>\n",
       "      <td>M</td>\n",
       "      <td>0.595</td>\n",
       "      <td>0.475</td>\n",
       "      <td>0.150</td>\n",
       "      <td>0.9145</td>\n",
       "      <td>0.3755</td>\n",
       "      <td>0.2055</td>\n",
       "      <td>0.2500</td>\n",
       "      <td>10</td>\n",
       "    </tr>\n",
       "    <tr>\n",
       "      <th>4</th>\n",
       "      <td>4</td>\n",
       "      <td>I</td>\n",
       "      <td>0.555</td>\n",
       "      <td>0.425</td>\n",
       "      <td>0.130</td>\n",
       "      <td>0.7820</td>\n",
       "      <td>0.3695</td>\n",
       "      <td>0.1600</td>\n",
       "      <td>0.1975</td>\n",
       "      <td>9</td>\n",
       "    </tr>\n",
       "  </tbody>\n",
       "</table>\n",
       "</div>"
      ],
      "text/plain": [
       "   id Sex  Length  Diameter  Height  Whole weight  Whole weight.1  \\\n",
       "0   0   F   0.550     0.430   0.150        0.7715          0.3285   \n",
       "1   1   F   0.630     0.490   0.145        1.1300          0.4580   \n",
       "2   2   I   0.160     0.110   0.025        0.0210          0.0055   \n",
       "3   3   M   0.595     0.475   0.150        0.9145          0.3755   \n",
       "4   4   I   0.555     0.425   0.130        0.7820          0.3695   \n",
       "\n",
       "   Whole weight.2  Shell weight  Rings  \n",
       "0          0.1465        0.2400     11  \n",
       "1          0.2765        0.3200     11  \n",
       "2          0.0030        0.0050      6  \n",
       "3          0.2055        0.2500     10  \n",
       "4          0.1600        0.1975      9  "
      ]
     },
     "execution_count": 2,
     "metadata": {},
     "output_type": "execute_result"
    }
   ],
   "source": [
    "df = pd.read_csv('../data/train.csv/train.csv')\n",
    "print(df.shape)\n",
    "df.head() #Quite a nice number of rows..."
   ]
  },
  {
   "cell_type": "code",
   "execution_count": 3,
   "id": "4149409c",
   "metadata": {},
   "outputs": [
    {
     "data": {
      "text/plain": [
       "Index(['id', 'sex', 'length', 'diameter', 'height', 'whole_weight',\n",
       "       'whole_weight1', 'whole_weight2', 'shell_weight', 'rings'],\n",
       "      dtype='object')"
      ]
     },
     "execution_count": 3,
     "metadata": {},
     "output_type": "execute_result"
    }
   ],
   "source": [
    "df.columns = df.columns.str.lower()\n",
    "df.columns = df.columns.str.replace(' ', '_')\n",
    "df.columns = df.columns.str.replace('.', '')\n",
    "df.columns"
   ]
  },
  {
   "cell_type": "code",
   "execution_count": 4,
   "id": "af3e7c1a",
   "metadata": {},
   "outputs": [],
   "source": [
    "# if len(df['id'].unique()) == df.shape[0]:\n",
    "#     df = df.drop(['id'], axis=1) #Not adding anything to our model... Hmm, now that I think about it, let's make this better:\n",
    "# else:\n",
    "#     print(len(df['id'].unique()))"
   ]
  },
  {
   "cell_type": "code",
   "execution_count": 5,
   "id": "c957a154",
   "metadata": {},
   "outputs": [
    {
     "name": "stdout",
     "output_type": "stream",
     "text": [
      "Just dropped id as it wasn't adding any value whatsoever to our model.\n",
      "Well, sex has 3 unique fields, so we'll keep it...for now!\n",
      "Well, length has 157 unique fields, so we'll keep it...for now!\n",
      "Well, diameter has 126 unique fields, so we'll keep it...for now!\n",
      "Well, height has 90 unique fields, so we'll keep it...for now!\n",
      "Well, whole_weight has 3175 unique fields, so we'll keep it...for now!\n",
      "Well, whole_weight1 has 1799 unique fields, so we'll keep it...for now!\n",
      "Well, whole_weight2 has 979 unique fields, so we'll keep it...for now!\n",
      "Well, shell_weight has 1129 unique fields, so we'll keep it...for now!\n",
      "Well, rings has 28 unique fields, so we'll keep it...for now!\n"
     ]
    }
   ],
   "source": [
    "for i in df.columns:\n",
    "    if len(df[i].unique()) == df.shape[0]:\n",
    "        df = df.drop([i], axis=1) #Not adding anything to our model... Hmm, now that I think about it, let's make this better:\n",
    "        print(f\"Just dropped {i} as it wasn't adding any value whatsoever to our model.\")\n",
    "    else:\n",
    "        print(f\"Well, {i} has {len(df[i].unique())} unique fields, so we'll keep it...for now!\")\n",
    "\n",
    "#And, on the topic we see all the unique fields too for everything.... Might have to have a different\n",
    "#approach for larger datasets, but for now... So, pragmatically sex would be the only categorical variable."
   ]
  },
  {
   "cell_type": "code",
   "execution_count": 6,
   "id": "08db9021",
   "metadata": {},
   "outputs": [
    {
     "data": {
      "text/html": [
       "<div>\n",
       "<style scoped>\n",
       "    .dataframe tbody tr th:only-of-type {\n",
       "        vertical-align: middle;\n",
       "    }\n",
       "\n",
       "    .dataframe tbody tr th {\n",
       "        vertical-align: top;\n",
       "    }\n",
       "\n",
       "    .dataframe thead th {\n",
       "        text-align: right;\n",
       "    }\n",
       "</style>\n",
       "<table border=\"1\" class=\"dataframe\">\n",
       "  <thead>\n",
       "    <tr style=\"text-align: right;\">\n",
       "      <th></th>\n",
       "      <th>sex</th>\n",
       "      <th>length</th>\n",
       "      <th>diameter</th>\n",
       "      <th>height</th>\n",
       "      <th>whole_weight</th>\n",
       "      <th>whole_weight1</th>\n",
       "      <th>whole_weight2</th>\n",
       "      <th>shell_weight</th>\n",
       "      <th>rings</th>\n",
       "    </tr>\n",
       "  </thead>\n",
       "  <tbody>\n",
       "    <tr>\n",
       "      <th>0</th>\n",
       "      <td>F</td>\n",
       "      <td>0.550</td>\n",
       "      <td>0.430</td>\n",
       "      <td>0.150</td>\n",
       "      <td>0.7715</td>\n",
       "      <td>0.3285</td>\n",
       "      <td>0.1465</td>\n",
       "      <td>0.2400</td>\n",
       "      <td>11</td>\n",
       "    </tr>\n",
       "    <tr>\n",
       "      <th>1</th>\n",
       "      <td>F</td>\n",
       "      <td>0.630</td>\n",
       "      <td>0.490</td>\n",
       "      <td>0.145</td>\n",
       "      <td>1.1300</td>\n",
       "      <td>0.4580</td>\n",
       "      <td>0.2765</td>\n",
       "      <td>0.3200</td>\n",
       "      <td>11</td>\n",
       "    </tr>\n",
       "    <tr>\n",
       "      <th>2</th>\n",
       "      <td>I</td>\n",
       "      <td>0.160</td>\n",
       "      <td>0.110</td>\n",
       "      <td>0.025</td>\n",
       "      <td>0.0210</td>\n",
       "      <td>0.0055</td>\n",
       "      <td>0.0030</td>\n",
       "      <td>0.0050</td>\n",
       "      <td>6</td>\n",
       "    </tr>\n",
       "    <tr>\n",
       "      <th>3</th>\n",
       "      <td>M</td>\n",
       "      <td>0.595</td>\n",
       "      <td>0.475</td>\n",
       "      <td>0.150</td>\n",
       "      <td>0.9145</td>\n",
       "      <td>0.3755</td>\n",
       "      <td>0.2055</td>\n",
       "      <td>0.2500</td>\n",
       "      <td>10</td>\n",
       "    </tr>\n",
       "    <tr>\n",
       "      <th>4</th>\n",
       "      <td>I</td>\n",
       "      <td>0.555</td>\n",
       "      <td>0.425</td>\n",
       "      <td>0.130</td>\n",
       "      <td>0.7820</td>\n",
       "      <td>0.3695</td>\n",
       "      <td>0.1600</td>\n",
       "      <td>0.1975</td>\n",
       "      <td>9</td>\n",
       "    </tr>\n",
       "  </tbody>\n",
       "</table>\n",
       "</div>"
      ],
      "text/plain": [
       "  sex  length  diameter  height  whole_weight  whole_weight1  whole_weight2  \\\n",
       "0   F   0.550     0.430   0.150        0.7715         0.3285         0.1465   \n",
       "1   F   0.630     0.490   0.145        1.1300         0.4580         0.2765   \n",
       "2   I   0.160     0.110   0.025        0.0210         0.0055         0.0030   \n",
       "3   M   0.595     0.475   0.150        0.9145         0.3755         0.2055   \n",
       "4   I   0.555     0.425   0.130        0.7820         0.3695         0.1600   \n",
       "\n",
       "   shell_weight  rings  \n",
       "0        0.2400     11  \n",
       "1        0.3200     11  \n",
       "2        0.0050      6  \n",
       "3        0.2500     10  \n",
       "4        0.1975      9  "
      ]
     },
     "execution_count": 6,
     "metadata": {},
     "output_type": "execute_result"
    }
   ],
   "source": [
    "df.head()"
   ]
  },
  {
   "cell_type": "code",
   "execution_count": 7,
   "id": "fb4cb853",
   "metadata": {},
   "outputs": [
    {
     "name": "stdout",
     "output_type": "stream",
     "text": [
      "Phew no nulls.\n"
     ]
    }
   ],
   "source": [
    "#Oh, before I get too excited let's check for nulls:\n",
    "if sum(df.isnull().sum())==0:\n",
    "    print(\"Phew, no nulls.\")\n",
    "else:\n",
    "    print(df.columns[df.isnull().any()]) #Honestly thanks to leplandelavile of Stackoverflow for the code for this.... I knew\n",
    "    #we could find something elegant like this,a s opposed to looping through each column..."
   ]
  },
  {
   "cell_type": "code",
   "execution_count": 8,
   "id": "95b5b4cd",
   "metadata": {},
   "outputs": [],
   "source": [
    "# df.loc[df.shape[0]] = [\"F\", 0,0,0,0,0,0,0, np.nan]\n",
    "# df.loc[df.shape[0]-1]"
   ]
  },
  {
   "cell_type": "markdown",
   "id": "446d31af",
   "metadata": {},
   "source": [
    "Given that we only have on categorical vaiable, we'll just look at that plainly:"
   ]
  },
  {
   "cell_type": "code",
   "execution_count": 9,
   "id": "c9000f93",
   "metadata": {},
   "outputs": [
    {
     "data": {
      "text/plain": [
       "sex\n",
       "I    0.365204\n",
       "M    0.342405\n",
       "F    0.292391\n",
       "Name: proportion, dtype: float64"
      ]
     },
     "execution_count": 9,
     "metadata": {},
     "output_type": "execute_result"
    }
   ],
   "source": [
    "df['sex'].value_counts(normalize=True) #Oh interesting, I is actually the majority, then a decent bit more males than females.\n",
    "#Would be interesting to see their sampling methods."
   ]
  },
  {
   "cell_type": "markdown",
   "id": "5002c68d",
   "metadata": {},
   "source": [
    "Likely visualization would be the way to go, but eh, I'm a numbers guy..."
   ]
  },
  {
   "cell_type": "code",
   "execution_count": 28,
   "id": "00c66305",
   "metadata": {},
   "outputs": [
    {
     "name": "stdout",
     "output_type": "stream",
     "text": [
      "sex on length\n",
      "       count      mean       std    min    25%    50%    75%    max\n",
      "sex                                                                \n",
      "F    26495.0  0.584330  0.071348  0.230  0.545  0.585  0.630  0.815\n",
      "I    33093.0  0.414792  0.104592  0.075  0.345  0.425  0.495  0.770\n",
      "M    31027.0  0.568806  0.084280  0.090  0.530  0.575  0.620  0.815\n",
      "~~~~~~~~~~~~~~~~~~~~~~~~~~\n",
      "sex on diameter\n",
      "       count      mean       std    min    25%    50%    75%    max\n",
      "sex                                                                \n",
      "F    26495.0  0.458219  0.059050  0.130  0.425  0.460  0.500  0.635\n",
      "I    33093.0  0.315766  0.085249  0.055  0.260  0.325  0.380  0.600\n",
      "M    31027.0  0.445032  0.069665  0.090  0.415  0.450  0.485  0.650\n",
      "~~~~~~~~~~~~~~~~~~~~~~~~~~\n",
      "sex on height\n",
      "       count      mean       std   min    25%    50%    75%   max\n",
      "sex                                                              \n",
      "F    26495.0  0.157194  0.027658  0.05  0.140  0.155  0.175  1.13\n",
      "I    33093.0  0.103129  0.029335  0.00  0.085  0.100  0.125  0.23\n",
      "M    31027.0  0.151396  0.029591  0.00  0.135  0.150  0.170  1.13\n",
      "~~~~~~~~~~~~~~~~~~~~~~~~~~\n",
      "sex on whole_weight\n",
      "       count      mean       std     min     25%     50%     75%     max\n",
      "sex                                                                     \n",
      "F    26495.0  1.051711  0.377650  0.0340  0.8130  1.0070  1.2800  2.8255\n",
      "I    33093.0  0.396115  0.261157  0.0020  0.1870  0.3565  0.5730  2.7795\n",
      "M    31027.0  0.983810  0.394574  0.0095  0.7635  0.9555  1.1785  2.8255\n",
      "~~~~~~~~~~~~~~~~~~~~~~~~~~\n",
      "sex on whole_weight1\n",
      "       count      mean       std     min     25%     50%     75%     max\n",
      "sex                                                                     \n",
      "F    26495.0  0.449880  0.175309  0.0145  0.3285  0.4305  0.5495  1.2695\n",
      "I    33093.0  0.173873  0.117814  0.0010  0.0785  0.1575  0.2500  1.1455\n",
      "M    31027.0  0.425631  0.184193  0.0035  0.3125  0.4070  0.5265  1.4880\n",
      "~~~~~~~~~~~~~~~~~~~~~~~~~~\n",
      "sex on whole_weight2\n",
      "       count      mean       std     min     25%     50%     75%    max\n",
      "sex                                                                    \n",
      "F    26495.0  0.227631  0.084946  0.0080  0.1705  0.2175  0.2815  0.590\n",
      "I    33093.0  0.083415  0.056068  0.0005  0.0390  0.0735  0.1185  0.548\n",
      "M    31027.0  0.211449  0.087605  0.0015  0.1590  0.2035  0.2615  0.760\n",
      "~~~~~~~~~~~~~~~~~~~~~~~~~~\n",
      "sex on shell_weight\n",
      "       count      mean       std     min    25%    50%     75%    max\n",
      "sex                                                                  \n",
      "F    26495.0  0.301273  0.107665  0.0090  0.232  0.287  0.3650  0.897\n",
      "I    33093.0  0.114645  0.075507  0.0015  0.056  0.100  0.1615  0.885\n",
      "M    31027.0  0.280194  0.111943  0.0015  0.215  0.270  0.3400  1.005\n",
      "~~~~~~~~~~~~~~~~~~~~~~~~~~\n",
      "sex on rings\n",
      "       count       mean       std  min  25%   50%   75%   max\n",
      "sex                                                          \n",
      "F    26495.0  11.161389  3.021624  1.0  9.0  10.0  12.0  29.0\n",
      "I    33093.0   7.533557  2.131495  1.0  6.0   7.0   8.0  29.0\n",
      "M    31027.0  10.753408  2.980265  1.0  9.0  10.0  12.0  29.0\n",
      "~~~~~~~~~~~~~~~~~~~~~~~~~~\n"
     ]
    }
   ],
   "source": [
    "focus  = ['sex']\n",
    "for i in focus:\n",
    "    for c in df.columns:\n",
    "        if c != i:\n",
    "            print(f\"{i} on {c}\")\n",
    "            print(df.groupby(i)[c].describe())\n",
    "            print(f\"~\"*26)"
   ]
  }
 ],
 "metadata": {
  "kernelspec": {
   "display_name": "Python 3 (ipykernel)",
   "language": "python",
   "name": "python3"
  },
  "language_info": {
   "codemirror_mode": {
    "name": "ipython",
    "version": 3
   },
   "file_extension": ".py",
   "mimetype": "text/x-python",
   "name": "python",
   "nbconvert_exporter": "python",
   "pygments_lexer": "ipython3",
   "version": "3.11.5"
  }
 },
 "nbformat": 4,
 "nbformat_minor": 5
}
