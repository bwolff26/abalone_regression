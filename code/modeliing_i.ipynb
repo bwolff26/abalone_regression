{
 "cells": [
  {
   "cell_type": "markdown",
   "id": "12121e87",
   "metadata": {},
   "source": [
    "We'll at least start out with the given guys before feature engineering."
   ]
  },
  {
   "cell_type": "code",
   "execution_count": 1,
   "id": "abb34d4c",
   "metadata": {},
   "outputs": [],
   "source": [
    "import pandas as pd\n",
    "import numpy as np\n",
    "\n",
    "from sklearn.model_selection import train_test_split\n",
    "from sklearn.preprocessing import MinMaxScaler\n",
    "\n",
    "from sklearn.feature_selection import RFECV #was hoping for this without the reverse, but I don't see it. Oh well when\n",
    "from sklearn.model_selection import cross_val_score\n",
    "from sklearn.pipeline import Pipeline\n",
    "\n",
    "from sklearn.model_selection import GridSearchCV\n",
    "#it's just 8; well, it'll be more hectic momentarily...\n",
    "\n",
    "# from sklearn.metrics import make_scorer\n",
    "from sklearn.metrics import root_mean_squared_log_error #Phew this on is on there... I mean find if we'd have to square,\n",
    "#but rather not have to write the formula.\n",
    "\n",
    "# from sklearn.metrics import make_scorer"
   ]
  },
  {
   "cell_type": "code",
   "execution_count": 2,
   "id": "6652f1e3",
   "metadata": {},
   "outputs": [],
   "source": [
    "from sklearn.linear_model import LinearRegression\n",
    "from sklearn.ensemble import RandomForestRegressor\n",
    "from sklearn.ensemble import BaggingRegressor\n",
    "from sklearn.svm import SVR"
   ]
  },
  {
   "cell_type": "code",
   "execution_count": 6,
   "id": "b5348b86",
   "metadata": {},
   "outputs": [],
   "source": [
    "from sklearn.preprocessing import PolynomialFeatures"
   ]
  },
  {
   "cell_type": "code",
   "execution_count": 62,
   "id": "6150016a",
   "metadata": {},
   "outputs": [],
   "source": [
    "#The following is in case I need it later. As, it seems quite barbaric to sort through the list each one... however this would require\n",
    "#changing the numbers into a dataframe.\n",
    "\n",
    "def log_prepper(num):\n",
    "    return min(0, num)"
   ]
  },
  {
   "cell_type": "code",
   "execution_count": 3,
   "id": "4ca94d85",
   "metadata": {},
   "outputs": [
    {
     "name": "stdout",
     "output_type": "stream",
     "text": [
      "(90609, 9)\n"
     ]
    },
    {
     "data": {
      "text/html": [
       "<div>\n",
       "<style scoped>\n",
       "    .dataframe tbody tr th:only-of-type {\n",
       "        vertical-align: middle;\n",
       "    }\n",
       "\n",
       "    .dataframe tbody tr th {\n",
       "        vertical-align: top;\n",
       "    }\n",
       "\n",
       "    .dataframe thead th {\n",
       "        text-align: right;\n",
       "    }\n",
       "</style>\n",
       "<table border=\"1\" class=\"dataframe\">\n",
       "  <thead>\n",
       "    <tr style=\"text-align: right;\">\n",
       "      <th></th>\n",
       "      <th>sex</th>\n",
       "      <th>length</th>\n",
       "      <th>diameter</th>\n",
       "      <th>height</th>\n",
       "      <th>whole_weight</th>\n",
       "      <th>whole_weight1</th>\n",
       "      <th>whole_weight2</th>\n",
       "      <th>shell_weight</th>\n",
       "      <th>rings</th>\n",
       "    </tr>\n",
       "  </thead>\n",
       "  <tbody>\n",
       "    <tr>\n",
       "      <th>0</th>\n",
       "      <td>F</td>\n",
       "      <td>0.550</td>\n",
       "      <td>0.430</td>\n",
       "      <td>0.150</td>\n",
       "      <td>0.7715</td>\n",
       "      <td>0.3285</td>\n",
       "      <td>0.1465</td>\n",
       "      <td>0.2400</td>\n",
       "      <td>11</td>\n",
       "    </tr>\n",
       "    <tr>\n",
       "      <th>1</th>\n",
       "      <td>F</td>\n",
       "      <td>0.630</td>\n",
       "      <td>0.490</td>\n",
       "      <td>0.145</td>\n",
       "      <td>1.1300</td>\n",
       "      <td>0.4580</td>\n",
       "      <td>0.2765</td>\n",
       "      <td>0.3200</td>\n",
       "      <td>11</td>\n",
       "    </tr>\n",
       "    <tr>\n",
       "      <th>2</th>\n",
       "      <td>I</td>\n",
       "      <td>0.160</td>\n",
       "      <td>0.110</td>\n",
       "      <td>0.025</td>\n",
       "      <td>0.0210</td>\n",
       "      <td>0.0055</td>\n",
       "      <td>0.0030</td>\n",
       "      <td>0.0050</td>\n",
       "      <td>6</td>\n",
       "    </tr>\n",
       "    <tr>\n",
       "      <th>3</th>\n",
       "      <td>M</td>\n",
       "      <td>0.595</td>\n",
       "      <td>0.475</td>\n",
       "      <td>0.150</td>\n",
       "      <td>0.9145</td>\n",
       "      <td>0.3755</td>\n",
       "      <td>0.2055</td>\n",
       "      <td>0.2500</td>\n",
       "      <td>10</td>\n",
       "    </tr>\n",
       "    <tr>\n",
       "      <th>4</th>\n",
       "      <td>I</td>\n",
       "      <td>0.555</td>\n",
       "      <td>0.425</td>\n",
       "      <td>0.130</td>\n",
       "      <td>0.7820</td>\n",
       "      <td>0.3695</td>\n",
       "      <td>0.1600</td>\n",
       "      <td>0.1975</td>\n",
       "      <td>9</td>\n",
       "    </tr>\n",
       "  </tbody>\n",
       "</table>\n",
       "</div>"
      ],
      "text/plain": [
       "  sex  length  diameter  height  whole_weight  whole_weight1  whole_weight2  \\\n",
       "0   F   0.550     0.430   0.150        0.7715         0.3285         0.1465   \n",
       "1   F   0.630     0.490   0.145        1.1300         0.4580         0.2765   \n",
       "2   I   0.160     0.110   0.025        0.0210         0.0055         0.0030   \n",
       "3   M   0.595     0.475   0.150        0.9145         0.3755         0.2055   \n",
       "4   I   0.555     0.425   0.130        0.7820         0.3695         0.1600   \n",
       "\n",
       "   shell_weight  rings  \n",
       "0        0.2400     11  \n",
       "1        0.3200     11  \n",
       "2        0.0050      6  \n",
       "3        0.2500     10  \n",
       "4        0.1975      9  "
      ]
     },
     "execution_count": 3,
     "metadata": {},
     "output_type": "execute_result"
    }
   ],
   "source": [
    "df = pd.read_csv('../data/cleaned_train.csv')\n",
    "print(df.shape)\n",
    "df.head()"
   ]
  },
  {
   "cell_type": "code",
   "execution_count": 4,
   "id": "12f8249c",
   "metadata": {},
   "outputs": [
    {
     "data": {
      "text/html": [
       "<div>\n",
       "<style scoped>\n",
       "    .dataframe tbody tr th:only-of-type {\n",
       "        vertical-align: middle;\n",
       "    }\n",
       "\n",
       "    .dataframe tbody tr th {\n",
       "        vertical-align: top;\n",
       "    }\n",
       "\n",
       "    .dataframe thead th {\n",
       "        text-align: right;\n",
       "    }\n",
       "</style>\n",
       "<table border=\"1\" class=\"dataframe\">\n",
       "  <thead>\n",
       "    <tr style=\"text-align: right;\">\n",
       "      <th></th>\n",
       "      <th>length</th>\n",
       "      <th>diameter</th>\n",
       "      <th>height</th>\n",
       "      <th>whole_weight</th>\n",
       "      <th>whole_weight1</th>\n",
       "      <th>whole_weight2</th>\n",
       "      <th>shell_weight</th>\n",
       "      <th>rings</th>\n",
       "      <th>sex_I</th>\n",
       "      <th>sex_M</th>\n",
       "    </tr>\n",
       "  </thead>\n",
       "  <tbody>\n",
       "    <tr>\n",
       "      <th>0</th>\n",
       "      <td>0.550</td>\n",
       "      <td>0.430</td>\n",
       "      <td>0.150</td>\n",
       "      <td>0.7715</td>\n",
       "      <td>0.3285</td>\n",
       "      <td>0.1465</td>\n",
       "      <td>0.2400</td>\n",
       "      <td>11</td>\n",
       "      <td>0</td>\n",
       "      <td>0</td>\n",
       "    </tr>\n",
       "    <tr>\n",
       "      <th>1</th>\n",
       "      <td>0.630</td>\n",
       "      <td>0.490</td>\n",
       "      <td>0.145</td>\n",
       "      <td>1.1300</td>\n",
       "      <td>0.4580</td>\n",
       "      <td>0.2765</td>\n",
       "      <td>0.3200</td>\n",
       "      <td>11</td>\n",
       "      <td>0</td>\n",
       "      <td>0</td>\n",
       "    </tr>\n",
       "    <tr>\n",
       "      <th>2</th>\n",
       "      <td>0.160</td>\n",
       "      <td>0.110</td>\n",
       "      <td>0.025</td>\n",
       "      <td>0.0210</td>\n",
       "      <td>0.0055</td>\n",
       "      <td>0.0030</td>\n",
       "      <td>0.0050</td>\n",
       "      <td>6</td>\n",
       "      <td>1</td>\n",
       "      <td>0</td>\n",
       "    </tr>\n",
       "    <tr>\n",
       "      <th>3</th>\n",
       "      <td>0.595</td>\n",
       "      <td>0.475</td>\n",
       "      <td>0.150</td>\n",
       "      <td>0.9145</td>\n",
       "      <td>0.3755</td>\n",
       "      <td>0.2055</td>\n",
       "      <td>0.2500</td>\n",
       "      <td>10</td>\n",
       "      <td>0</td>\n",
       "      <td>1</td>\n",
       "    </tr>\n",
       "    <tr>\n",
       "      <th>4</th>\n",
       "      <td>0.555</td>\n",
       "      <td>0.425</td>\n",
       "      <td>0.130</td>\n",
       "      <td>0.7820</td>\n",
       "      <td>0.3695</td>\n",
       "      <td>0.1600</td>\n",
       "      <td>0.1975</td>\n",
       "      <td>9</td>\n",
       "      <td>1</td>\n",
       "      <td>0</td>\n",
       "    </tr>\n",
       "  </tbody>\n",
       "</table>\n",
       "</div>"
      ],
      "text/plain": [
       "   length  diameter  height  whole_weight  whole_weight1  whole_weight2  \\\n",
       "0   0.550     0.430   0.150        0.7715         0.3285         0.1465   \n",
       "1   0.630     0.490   0.145        1.1300         0.4580         0.2765   \n",
       "2   0.160     0.110   0.025        0.0210         0.0055         0.0030   \n",
       "3   0.595     0.475   0.150        0.9145         0.3755         0.2055   \n",
       "4   0.555     0.425   0.130        0.7820         0.3695         0.1600   \n",
       "\n",
       "   shell_weight  rings  sex_I  sex_M  \n",
       "0        0.2400     11      0      0  \n",
       "1        0.3200     11      0      0  \n",
       "2        0.0050      6      1      0  \n",
       "3        0.2500     10      0      1  \n",
       "4        0.1975      9      1      0  "
      ]
     },
     "execution_count": 4,
     "metadata": {},
     "output_type": "execute_result"
    }
   ],
   "source": [
    "#I honestly forgot to earlier, although I do like the data is preserved: At least at the moment we also need to dummify sex\n",
    "#to get our lovely sklearn methods to work:\n",
    "\n",
    "df = pd.get_dummies(df, columns=['sex'], dtype=int, drop_first=True)\n",
    "df.head()  #Note that the baseline, ie 0s in the rest, will be indicativ of female abalones."
   ]
  },
  {
   "cell_type": "code",
   "execution_count": 5,
   "id": "02b1e59f",
   "metadata": {},
   "outputs": [],
   "source": [
    "X = df.drop('rings', axis=1)\n",
    "y = df['rings']\n",
    "\n",
    "X_train, X_test, y_train, y_test = train_test_split(X, y, test_size=.25, random_state=26) #Relatively large test size as we\n",
    "#have so much data to work with...\n",
    "#Re. 26 - I like that number. Discussion not for now\n",
    "\n",
    "mms = MinMaxScaler() #Temp. removed to have an easier time seeing which feature names were used.\n",
    "X_train = mms.fit_transform(X_train)\n",
    "X_test = mms.transform(X_test)"
   ]
  },
  {
   "cell_type": "markdown",
   "id": "9e33a4b8",
   "metadata": {},
   "source": [
    "Given that this is somewhat of a professional environment, as opposed to my boot camp I just finished, I won't bother to explain all of my thoughts. However, note that I'll reuse this and similar lines of code until finding desired results."
   ]
  },
  {
   "cell_type": "code",
   "execution_count": 6,
   "id": "ad8ff610",
   "metadata": {},
   "outputs": [],
   "source": [
    "# model_defaults.get_feature_names_out()\n",
    "\n",
    "#Hmm, quite interesting that we chose all the weights.... ie I'd understand if one, but\n",
    "#apparetly the relative discremencies upon focusing on less and less of the alabone, quite literally, is that useful.\n",
    "\n",
    "#Also, the distinguishment between female is somehwat negligible, despite hte many difference we obsered... however from\n",
    "#female to on-binary remains significant."
   ]
  },
  {
   "cell_type": "code",
   "execution_count": 7,
   "id": "8c6357c0",
   "metadata": {},
   "outputs": [
    {
     "name": "stdout",
     "output_type": "stream",
     "text": [
      "[]\n",
      "0.6062234959016377 0.6034787674182922\n",
      "[0.59003897 0.59367525 0.59568496 0.59954274 0.59970396 0.60580828\n",
      " 0.60580744]\n"
     ]
    },
    {
     "data": {
      "text/plain": [
       "0.16508650876858538"
      ]
     },
     "execution_count": 7,
     "metadata": {},
     "output_type": "execute_result"
    }
   ],
   "source": [
    "#Oh, just remembered we're supposed to use MSLE. At th least we have a benchmark of what's good 'objectively'\n",
    "\n",
    "lr = LinearRegression()\n",
    "rfe = RFECV(lr, step=1, cv=5,\n",
    "                       min_features_to_select=3)\n",
    "\n",
    "model_defaults = rfe.fit(X_train, y_train)\n",
    "\n",
    "preds_model_defaults = rfe.predict(X_test)#And we're somehow getting some negative predictions.... note that againt his is\n",
    "#without any feature engineering.... Regardless, we'll just brute force it. Unsure if we have a better wayt han the following:\n",
    "\n",
    "for i in range(len(preds_model_defaults)):\n",
    "    if preds_model_defaults[i] < 0:\n",
    "        preds_model_defaults[i] = 0\n",
    "print(preds_model_defaults[preds_model_defaults<0])\n",
    "\n",
    "print(model_defaults.score(X_train, y_train), model_defaults.score(X_test, y_test))\n",
    "print(model_defaults.cv_results_['mean_test_score'])\n",
    "root_mean_squared_log_error(y_test, preds_model_defaults)"
   ]
  },
  {
   "cell_type": "code",
   "execution_count": null,
   "id": "ea4fb8b2",
   "metadata": {},
   "outputs": [],
   "source": []
  },
  {
   "cell_type": "code",
   "execution_count": null,
   "id": "03d466f9",
   "metadata": {},
   "outputs": [],
   "source": []
  },
  {
   "cell_type": "code",
   "execution_count": 8,
   "id": "4cf46c33",
   "metadata": {},
   "outputs": [
    {
     "name": "stdout",
     "output_type": "stream",
     "text": [
      "0.9504620112507841 0.6557858728716266\n"
     ]
    },
    {
     "data": {
      "text/plain": [
       "0.15345037771109488"
      ]
     },
     "execution_count": 8,
     "metadata": {},
     "output_type": "execute_result"
    }
   ],
   "source": [
    "#A little tempted to play around with the defaults, but eh...consideing that we likely need to engineer some things...\n",
    "\n",
    "rf = RandomForestRegressor(random_state=26)\n",
    "\n",
    "##Seems a bit redundant to use both here...\n",
    "# rfe = RFECV(rf, step=1, cv=5, \n",
    "#                        min_features_to_select=3)\n",
    "\n",
    "model_defaults = rf.fit(X_train, y_train)\n",
    "\n",
    "preds_model_defaults = rf.predict(X_test)\n",
    "\n",
    "for i in range(len(preds_model_defaults)):\n",
    "    if preds_model_defaults[i] < 0:\n",
    "        preds_model_defaults[i] = 0\n",
    "\n",
    "print(model_defaults.score(X_train, y_train), model_defaults.score(X_test, y_test))\n",
    "# print(cross_val_score(rf, \n",
    "#                       X_train, y_train, cv = 5).mean()) #Yeah,c ommenting this guy out... taking too long plus a bit redundant\n",
    "# #Given that random forests are already aggregativing everything\n",
    "root_mean_squared_log_error(y_test, preds_model_defaults)\n",
    "\n",
    "#oooooh yesss this is quite juicy... quite juicy abalane "
   ]
  },
  {
   "cell_type": "code",
   "execution_count": 23,
   "id": "0cb114e7",
   "metadata": {},
   "outputs": [
    {
     "name": "stdout",
     "output_type": "stream",
     "text": [
      "0.9313299951392628 0.6238598931844348\n"
     ]
    },
    {
     "data": {
      "text/plain": [
       "0.16064598506264355"
      ]
     },
     "execution_count": 23,
     "metadata": {},
     "output_type": "execute_result"
    }
   ],
   "source": [
    "bag = BaggingRegressor(random_state=26)\n",
    "\n",
    "##Seems a bit redundant to use both here...\n",
    "# rfe = RFECV(rf, step=1, cv=5, \n",
    "#                        min_features_to_select=3)\n",
    "\n",
    "model_defaults = bag.fit(X_train, y_train)\n",
    "\n",
    "preds_model_defaults = bag.predict(X_test)\n",
    "\n",
    "for i in range(len(preds_model_defaults)):\n",
    "    if preds_model_defaults[i] < 0:\n",
    "        preds_model_defaults[i] = 0\n",
    "\n",
    "print(model_defaults.score(X_train, y_train), model_defaults.score(X_test, y_test))\n",
    "# print(cross_val_score(rf, \n",
    "#                       X_train, y_train, cv = 5).mean()) #Yeah,c ommenting this guy out... taking too long plus a bit redundant\n",
    "# #Given that random forests are already aggregativing everything\n",
    "root_mean_squared_log_error(y_test, preds_model_defaults)"
   ]
  },
  {
   "cell_type": "code",
   "execution_count": null,
   "id": "660d6190",
   "metadata": {},
   "outputs": [],
   "source": []
  },
  {
   "cell_type": "code",
   "execution_count": 20,
   "id": "1dccc8a6",
   "metadata": {},
   "outputs": [
    {
     "data": {
      "text/html": [
       "<style>#sk-container-id-1 {\n",
       "  /* Definition of color scheme common for light and dark mode */\n",
       "  --sklearn-color-text: black;\n",
       "  --sklearn-color-line: gray;\n",
       "  /* Definition of color scheme for unfitted estimators */\n",
       "  --sklearn-color-unfitted-level-0: #fff5e6;\n",
       "  --sklearn-color-unfitted-level-1: #f6e4d2;\n",
       "  --sklearn-color-unfitted-level-2: #ffe0b3;\n",
       "  --sklearn-color-unfitted-level-3: chocolate;\n",
       "  /* Definition of color scheme for fitted estimators */\n",
       "  --sklearn-color-fitted-level-0: #f0f8ff;\n",
       "  --sklearn-color-fitted-level-1: #d4ebff;\n",
       "  --sklearn-color-fitted-level-2: #b3dbfd;\n",
       "  --sklearn-color-fitted-level-3: cornflowerblue;\n",
       "\n",
       "  /* Specific color for light theme */\n",
       "  --sklearn-color-text-on-default-background: var(--sg-text-color, var(--theme-code-foreground, var(--jp-content-font-color1, black)));\n",
       "  --sklearn-color-background: var(--sg-background-color, var(--theme-background, var(--jp-layout-color0, white)));\n",
       "  --sklearn-color-border-box: var(--sg-text-color, var(--theme-code-foreground, var(--jp-content-font-color1, black)));\n",
       "  --sklearn-color-icon: #696969;\n",
       "\n",
       "  @media (prefers-color-scheme: dark) {\n",
       "    /* Redefinition of color scheme for dark theme */\n",
       "    --sklearn-color-text-on-default-background: var(--sg-text-color, var(--theme-code-foreground, var(--jp-content-font-color1, white)));\n",
       "    --sklearn-color-background: var(--sg-background-color, var(--theme-background, var(--jp-layout-color0, #111)));\n",
       "    --sklearn-color-border-box: var(--sg-text-color, var(--theme-code-foreground, var(--jp-content-font-color1, white)));\n",
       "    --sklearn-color-icon: #878787;\n",
       "  }\n",
       "}\n",
       "\n",
       "#sk-container-id-1 {\n",
       "  color: var(--sklearn-color-text);\n",
       "}\n",
       "\n",
       "#sk-container-id-1 pre {\n",
       "  padding: 0;\n",
       "}\n",
       "\n",
       "#sk-container-id-1 input.sk-hidden--visually {\n",
       "  border: 0;\n",
       "  clip: rect(1px 1px 1px 1px);\n",
       "  clip: rect(1px, 1px, 1px, 1px);\n",
       "  height: 1px;\n",
       "  margin: -1px;\n",
       "  overflow: hidden;\n",
       "  padding: 0;\n",
       "  position: absolute;\n",
       "  width: 1px;\n",
       "}\n",
       "\n",
       "#sk-container-id-1 div.sk-dashed-wrapped {\n",
       "  border: 1px dashed var(--sklearn-color-line);\n",
       "  margin: 0 0.4em 0.5em 0.4em;\n",
       "  box-sizing: border-box;\n",
       "  padding-bottom: 0.4em;\n",
       "  background-color: var(--sklearn-color-background);\n",
       "}\n",
       "\n",
       "#sk-container-id-1 div.sk-container {\n",
       "  /* jupyter's `normalize.less` sets `[hidden] { display: none; }`\n",
       "     but bootstrap.min.css set `[hidden] { display: none !important; }`\n",
       "     so we also need the `!important` here to be able to override the\n",
       "     default hidden behavior on the sphinx rendered scikit-learn.org.\n",
       "     See: https://github.com/scikit-learn/scikit-learn/issues/21755 */\n",
       "  display: inline-block !important;\n",
       "  position: relative;\n",
       "}\n",
       "\n",
       "#sk-container-id-1 div.sk-text-repr-fallback {\n",
       "  display: none;\n",
       "}\n",
       "\n",
       "div.sk-parallel-item,\n",
       "div.sk-serial,\n",
       "div.sk-item {\n",
       "  /* draw centered vertical line to link estimators */\n",
       "  background-image: linear-gradient(var(--sklearn-color-text-on-default-background), var(--sklearn-color-text-on-default-background));\n",
       "  background-size: 2px 100%;\n",
       "  background-repeat: no-repeat;\n",
       "  background-position: center center;\n",
       "}\n",
       "\n",
       "/* Parallel-specific style estimator block */\n",
       "\n",
       "#sk-container-id-1 div.sk-parallel-item::after {\n",
       "  content: \"\";\n",
       "  width: 100%;\n",
       "  border-bottom: 2px solid var(--sklearn-color-text-on-default-background);\n",
       "  flex-grow: 1;\n",
       "}\n",
       "\n",
       "#sk-container-id-1 div.sk-parallel {\n",
       "  display: flex;\n",
       "  align-items: stretch;\n",
       "  justify-content: center;\n",
       "  background-color: var(--sklearn-color-background);\n",
       "  position: relative;\n",
       "}\n",
       "\n",
       "#sk-container-id-1 div.sk-parallel-item {\n",
       "  display: flex;\n",
       "  flex-direction: column;\n",
       "}\n",
       "\n",
       "#sk-container-id-1 div.sk-parallel-item:first-child::after {\n",
       "  align-self: flex-end;\n",
       "  width: 50%;\n",
       "}\n",
       "\n",
       "#sk-container-id-1 div.sk-parallel-item:last-child::after {\n",
       "  align-self: flex-start;\n",
       "  width: 50%;\n",
       "}\n",
       "\n",
       "#sk-container-id-1 div.sk-parallel-item:only-child::after {\n",
       "  width: 0;\n",
       "}\n",
       "\n",
       "/* Serial-specific style estimator block */\n",
       "\n",
       "#sk-container-id-1 div.sk-serial {\n",
       "  display: flex;\n",
       "  flex-direction: column;\n",
       "  align-items: center;\n",
       "  background-color: var(--sklearn-color-background);\n",
       "  padding-right: 1em;\n",
       "  padding-left: 1em;\n",
       "}\n",
       "\n",
       "\n",
       "/* Toggleable style: style used for estimator/Pipeline/ColumnTransformer box that is\n",
       "clickable and can be expanded/collapsed.\n",
       "- Pipeline and ColumnTransformer use this feature and define the default style\n",
       "- Estimators will overwrite some part of the style using the `sk-estimator` class\n",
       "*/\n",
       "\n",
       "/* Pipeline and ColumnTransformer style (default) */\n",
       "\n",
       "#sk-container-id-1 div.sk-toggleable {\n",
       "  /* Default theme specific background. It is overwritten whether we have a\n",
       "  specific estimator or a Pipeline/ColumnTransformer */\n",
       "  background-color: var(--sklearn-color-background);\n",
       "}\n",
       "\n",
       "/* Toggleable label */\n",
       "#sk-container-id-1 label.sk-toggleable__label {\n",
       "  cursor: pointer;\n",
       "  display: block;\n",
       "  width: 100%;\n",
       "  margin-bottom: 0;\n",
       "  padding: 0.5em;\n",
       "  box-sizing: border-box;\n",
       "  text-align: center;\n",
       "}\n",
       "\n",
       "#sk-container-id-1 label.sk-toggleable__label-arrow:before {\n",
       "  /* Arrow on the left of the label */\n",
       "  content: \"▸\";\n",
       "  float: left;\n",
       "  margin-right: 0.25em;\n",
       "  color: var(--sklearn-color-icon);\n",
       "}\n",
       "\n",
       "#sk-container-id-1 label.sk-toggleable__label-arrow:hover:before {\n",
       "  color: var(--sklearn-color-text);\n",
       "}\n",
       "\n",
       "/* Toggleable content - dropdown */\n",
       "\n",
       "#sk-container-id-1 div.sk-toggleable__content {\n",
       "  max-height: 0;\n",
       "  max-width: 0;\n",
       "  overflow: hidden;\n",
       "  text-align: left;\n",
       "  /* unfitted */\n",
       "  background-color: var(--sklearn-color-unfitted-level-0);\n",
       "}\n",
       "\n",
       "#sk-container-id-1 div.sk-toggleable__content.fitted {\n",
       "  /* fitted */\n",
       "  background-color: var(--sklearn-color-fitted-level-0);\n",
       "}\n",
       "\n",
       "#sk-container-id-1 div.sk-toggleable__content pre {\n",
       "  margin: 0.2em;\n",
       "  border-radius: 0.25em;\n",
       "  color: var(--sklearn-color-text);\n",
       "  /* unfitted */\n",
       "  background-color: var(--sklearn-color-unfitted-level-0);\n",
       "}\n",
       "\n",
       "#sk-container-id-1 div.sk-toggleable__content.fitted pre {\n",
       "  /* unfitted */\n",
       "  background-color: var(--sklearn-color-fitted-level-0);\n",
       "}\n",
       "\n",
       "#sk-container-id-1 input.sk-toggleable__control:checked~div.sk-toggleable__content {\n",
       "  /* Expand drop-down */\n",
       "  max-height: 200px;\n",
       "  max-width: 100%;\n",
       "  overflow: auto;\n",
       "}\n",
       "\n",
       "#sk-container-id-1 input.sk-toggleable__control:checked~label.sk-toggleable__label-arrow:before {\n",
       "  content: \"▾\";\n",
       "}\n",
       "\n",
       "/* Pipeline/ColumnTransformer-specific style */\n",
       "\n",
       "#sk-container-id-1 div.sk-label input.sk-toggleable__control:checked~label.sk-toggleable__label {\n",
       "  color: var(--sklearn-color-text);\n",
       "  background-color: var(--sklearn-color-unfitted-level-2);\n",
       "}\n",
       "\n",
       "#sk-container-id-1 div.sk-label.fitted input.sk-toggleable__control:checked~label.sk-toggleable__label {\n",
       "  background-color: var(--sklearn-color-fitted-level-2);\n",
       "}\n",
       "\n",
       "/* Estimator-specific style */\n",
       "\n",
       "/* Colorize estimator box */\n",
       "#sk-container-id-1 div.sk-estimator input.sk-toggleable__control:checked~label.sk-toggleable__label {\n",
       "  /* unfitted */\n",
       "  background-color: var(--sklearn-color-unfitted-level-2);\n",
       "}\n",
       "\n",
       "#sk-container-id-1 div.sk-estimator.fitted input.sk-toggleable__control:checked~label.sk-toggleable__label {\n",
       "  /* fitted */\n",
       "  background-color: var(--sklearn-color-fitted-level-2);\n",
       "}\n",
       "\n",
       "#sk-container-id-1 div.sk-label label.sk-toggleable__label,\n",
       "#sk-container-id-1 div.sk-label label {\n",
       "  /* The background is the default theme color */\n",
       "  color: var(--sklearn-color-text-on-default-background);\n",
       "}\n",
       "\n",
       "/* On hover, darken the color of the background */\n",
       "#sk-container-id-1 div.sk-label:hover label.sk-toggleable__label {\n",
       "  color: var(--sklearn-color-text);\n",
       "  background-color: var(--sklearn-color-unfitted-level-2);\n",
       "}\n",
       "\n",
       "/* Label box, darken color on hover, fitted */\n",
       "#sk-container-id-1 div.sk-label.fitted:hover label.sk-toggleable__label.fitted {\n",
       "  color: var(--sklearn-color-text);\n",
       "  background-color: var(--sklearn-color-fitted-level-2);\n",
       "}\n",
       "\n",
       "/* Estimator label */\n",
       "\n",
       "#sk-container-id-1 div.sk-label label {\n",
       "  font-family: monospace;\n",
       "  font-weight: bold;\n",
       "  display: inline-block;\n",
       "  line-height: 1.2em;\n",
       "}\n",
       "\n",
       "#sk-container-id-1 div.sk-label-container {\n",
       "  text-align: center;\n",
       "}\n",
       "\n",
       "/* Estimator-specific */\n",
       "#sk-container-id-1 div.sk-estimator {\n",
       "  font-family: monospace;\n",
       "  border: 1px dotted var(--sklearn-color-border-box);\n",
       "  border-radius: 0.25em;\n",
       "  box-sizing: border-box;\n",
       "  margin-bottom: 0.5em;\n",
       "  /* unfitted */\n",
       "  background-color: var(--sklearn-color-unfitted-level-0);\n",
       "}\n",
       "\n",
       "#sk-container-id-1 div.sk-estimator.fitted {\n",
       "  /* fitted */\n",
       "  background-color: var(--sklearn-color-fitted-level-0);\n",
       "}\n",
       "\n",
       "/* on hover */\n",
       "#sk-container-id-1 div.sk-estimator:hover {\n",
       "  /* unfitted */\n",
       "  background-color: var(--sklearn-color-unfitted-level-2);\n",
       "}\n",
       "\n",
       "#sk-container-id-1 div.sk-estimator.fitted:hover {\n",
       "  /* fitted */\n",
       "  background-color: var(--sklearn-color-fitted-level-2);\n",
       "}\n",
       "\n",
       "/* Specification for estimator info (e.g. \"i\" and \"?\") */\n",
       "\n",
       "/* Common style for \"i\" and \"?\" */\n",
       "\n",
       ".sk-estimator-doc-link,\n",
       "a:link.sk-estimator-doc-link,\n",
       "a:visited.sk-estimator-doc-link {\n",
       "  float: right;\n",
       "  font-size: smaller;\n",
       "  line-height: 1em;\n",
       "  font-family: monospace;\n",
       "  background-color: var(--sklearn-color-background);\n",
       "  border-radius: 1em;\n",
       "  height: 1em;\n",
       "  width: 1em;\n",
       "  text-decoration: none !important;\n",
       "  margin-left: 1ex;\n",
       "  /* unfitted */\n",
       "  border: var(--sklearn-color-unfitted-level-1) 1pt solid;\n",
       "  color: var(--sklearn-color-unfitted-level-1);\n",
       "}\n",
       "\n",
       ".sk-estimator-doc-link.fitted,\n",
       "a:link.sk-estimator-doc-link.fitted,\n",
       "a:visited.sk-estimator-doc-link.fitted {\n",
       "  /* fitted */\n",
       "  border: var(--sklearn-color-fitted-level-1) 1pt solid;\n",
       "  color: var(--sklearn-color-fitted-level-1);\n",
       "}\n",
       "\n",
       "/* On hover */\n",
       "div.sk-estimator:hover .sk-estimator-doc-link:hover,\n",
       ".sk-estimator-doc-link:hover,\n",
       "div.sk-label-container:hover .sk-estimator-doc-link:hover,\n",
       ".sk-estimator-doc-link:hover {\n",
       "  /* unfitted */\n",
       "  background-color: var(--sklearn-color-unfitted-level-3);\n",
       "  color: var(--sklearn-color-background);\n",
       "  text-decoration: none;\n",
       "}\n",
       "\n",
       "div.sk-estimator.fitted:hover .sk-estimator-doc-link.fitted:hover,\n",
       ".sk-estimator-doc-link.fitted:hover,\n",
       "div.sk-label-container:hover .sk-estimator-doc-link.fitted:hover,\n",
       ".sk-estimator-doc-link.fitted:hover {\n",
       "  /* fitted */\n",
       "  background-color: var(--sklearn-color-fitted-level-3);\n",
       "  color: var(--sklearn-color-background);\n",
       "  text-decoration: none;\n",
       "}\n",
       "\n",
       "/* Span, style for the box shown on hovering the info icon */\n",
       ".sk-estimator-doc-link span {\n",
       "  display: none;\n",
       "  z-index: 9999;\n",
       "  position: relative;\n",
       "  font-weight: normal;\n",
       "  right: .2ex;\n",
       "  padding: .5ex;\n",
       "  margin: .5ex;\n",
       "  width: min-content;\n",
       "  min-width: 20ex;\n",
       "  max-width: 50ex;\n",
       "  color: var(--sklearn-color-text);\n",
       "  box-shadow: 2pt 2pt 4pt #999;\n",
       "  /* unfitted */\n",
       "  background: var(--sklearn-color-unfitted-level-0);\n",
       "  border: .5pt solid var(--sklearn-color-unfitted-level-3);\n",
       "}\n",
       "\n",
       ".sk-estimator-doc-link.fitted span {\n",
       "  /* fitted */\n",
       "  background: var(--sklearn-color-fitted-level-0);\n",
       "  border: var(--sklearn-color-fitted-level-3);\n",
       "}\n",
       "\n",
       ".sk-estimator-doc-link:hover span {\n",
       "  display: block;\n",
       "}\n",
       "\n",
       "/* \"?\"-specific style due to the `<a>` HTML tag */\n",
       "\n",
       "#sk-container-id-1 a.estimator_doc_link {\n",
       "  float: right;\n",
       "  font-size: 1rem;\n",
       "  line-height: 1em;\n",
       "  font-family: monospace;\n",
       "  background-color: var(--sklearn-color-background);\n",
       "  border-radius: 1rem;\n",
       "  height: 1rem;\n",
       "  width: 1rem;\n",
       "  text-decoration: none;\n",
       "  /* unfitted */\n",
       "  color: var(--sklearn-color-unfitted-level-1);\n",
       "  border: var(--sklearn-color-unfitted-level-1) 1pt solid;\n",
       "}\n",
       "\n",
       "#sk-container-id-1 a.estimator_doc_link.fitted {\n",
       "  /* fitted */\n",
       "  border: var(--sklearn-color-fitted-level-1) 1pt solid;\n",
       "  color: var(--sklearn-color-fitted-level-1);\n",
       "}\n",
       "\n",
       "/* On hover */\n",
       "#sk-container-id-1 a.estimator_doc_link:hover {\n",
       "  /* unfitted */\n",
       "  background-color: var(--sklearn-color-unfitted-level-3);\n",
       "  color: var(--sklearn-color-background);\n",
       "  text-decoration: none;\n",
       "}\n",
       "\n",
       "#sk-container-id-1 a.estimator_doc_link.fitted:hover {\n",
       "  /* fitted */\n",
       "  background-color: var(--sklearn-color-fitted-level-3);\n",
       "}\n",
       "</style><div id=\"sk-container-id-1\" class=\"sk-top-container\"><div class=\"sk-text-repr-fallback\"><pre>GridSearchCV(cv=5, estimator=Pipeline(steps=[(&#x27;svr&#x27;, SVR())]),\n",
       "             param_grid={&#x27;svr__C&#x27;: [0.9, 0.95, 1], &#x27;svr__kernel&#x27;: [&#x27;rbf&#x27;]})</pre><b>In a Jupyter environment, please rerun this cell to show the HTML representation or trust the notebook. <br />On GitHub, the HTML representation is unable to render, please try loading this page with nbviewer.org.</b></div><div class=\"sk-container\" hidden><div class=\"sk-item sk-dashed-wrapped\"><div class=\"sk-label-container\"><div class=\"sk-label fitted sk-toggleable\"><input class=\"sk-toggleable__control sk-hidden--visually\" id=\"sk-estimator-id-1\" type=\"checkbox\" ><label for=\"sk-estimator-id-1\" class=\"sk-toggleable__label fitted sk-toggleable__label-arrow fitted\">&nbsp;&nbsp;GridSearchCV<a class=\"sk-estimator-doc-link fitted\" rel=\"noreferrer\" target=\"_blank\" href=\"https://scikit-learn.org/1.4/modules/generated/sklearn.model_selection.GridSearchCV.html\">?<span>Documentation for GridSearchCV</span></a><span class=\"sk-estimator-doc-link fitted\">i<span>Fitted</span></span></label><div class=\"sk-toggleable__content fitted\"><pre>GridSearchCV(cv=5, estimator=Pipeline(steps=[(&#x27;svr&#x27;, SVR())]),\n",
       "             param_grid={&#x27;svr__C&#x27;: [0.9, 0.95, 1], &#x27;svr__kernel&#x27;: [&#x27;rbf&#x27;]})</pre></div> </div></div><div class=\"sk-parallel\"><div class=\"sk-parallel-item\"><div class=\"sk-item\"><div class=\"sk-label-container\"><div class=\"sk-label fitted sk-toggleable\"><input class=\"sk-toggleable__control sk-hidden--visually\" id=\"sk-estimator-id-2\" type=\"checkbox\" ><label for=\"sk-estimator-id-2\" class=\"sk-toggleable__label fitted sk-toggleable__label-arrow fitted\">estimator: Pipeline</label><div class=\"sk-toggleable__content fitted\"><pre>Pipeline(steps=[(&#x27;svr&#x27;, SVR())])</pre></div> </div></div><div class=\"sk-serial\"><div class=\"sk-item\"><div class=\"sk-serial\"><div class=\"sk-item\"><div class=\"sk-estimator fitted sk-toggleable\"><input class=\"sk-toggleable__control sk-hidden--visually\" id=\"sk-estimator-id-3\" type=\"checkbox\" ><label for=\"sk-estimator-id-3\" class=\"sk-toggleable__label fitted sk-toggleable__label-arrow fitted\">&nbsp;SVR<a class=\"sk-estimator-doc-link fitted\" rel=\"noreferrer\" target=\"_blank\" href=\"https://scikit-learn.org/1.4/modules/generated/sklearn.svm.SVR.html\">?<span>Documentation for SVR</span></a></label><div class=\"sk-toggleable__content fitted\"><pre>SVR()</pre></div> </div></div></div></div></div></div></div></div></div></div></div>"
      ],
      "text/plain": [
       "GridSearchCV(cv=5, estimator=Pipeline(steps=[('svr', SVR())]),\n",
       "             param_grid={'svr__C': [0.9, 0.95, 1], 'svr__kernel': ['rbf']})"
      ]
     },
     "execution_count": 20,
     "metadata": {},
     "output_type": "execute_result"
    }
   ],
   "source": [
    "# pipe = Pipeline([\n",
    "#     ('svr', SVR())\n",
    "# ])\n",
    "# pipe_params = {'svr__kernel' : ['rbf'] #Eh, taking too long to do all of them... just go with rbf for now\n",
    "#                ,'svr__C' : [.9, .95 , 1]\n",
    "#               }\n",
    "# gs = GridSearchCV(pipe,\n",
    "#                   param_grid=pipe_params,\n",
    "#                   cv=5)\n",
    "\n",
    "# gs.fit(X_train, y_train)"
   ]
  },
  {
   "cell_type": "code",
   "execution_count": 21,
   "id": "8d06f794",
   "metadata": {},
   "outputs": [
    {
     "name": "stdout",
     "output_type": "stream",
     "text": [
      "0.6187870521022931 0.6175574607103471\n",
      "0.6167895215540445\n",
      "{'svr__C': 1, 'svr__kernel': 'rbf'}\n"
     ]
    },
    {
     "data": {
      "text/plain": [
       "0.15345037771109488"
      ]
     },
     "execution_count": 21,
     "metadata": {},
     "output_type": "execute_result"
    }
   ],
   "source": [
    "# preds_model_defaults = rf.predict(X_test)\n",
    "# for i in range(len(preds_model_defaults)):\n",
    "#     if preds_model_defaults[i] < 0:\n",
    "#         preds_model_defaults[i] = 0\n",
    "\n",
    "# print(gs.score(X_train, y_train), gs.score(X_test, y_test))\n",
    "# print(gs.best_score_)\n",
    "# print(gs.best_params_)\n",
    "        \n",
    "# root_mean_squared_log_error(y_test, preds_model_defaults)\n",
    "\n",
    "##0.6187870521022931 0.6175574607103471 #Commenting out as it took way too long... note that it has the same RMSLE as forests\n",
    "## 0.6167895215540445\n",
    "## {'svr__C': 1, 'svr__kernel': 'rbf'}\n",
    "## 0.15345037771109488"
   ]
  },
  {
   "cell_type": "markdown",
   "id": "f4ff7c0f",
   "metadata": {},
   "source": [
    "So, bottom line we 'like' the accuracy and processing time of Random Forests. Perhaps regression is just that intense, or I'm underappeicating how giant this dataset is, but SVR took forever. So, likely we'll jump just do Forests as we move on. We'll see."
   ]
  },
  {
   "cell_type": "markdown",
   "id": "a9c47d93",
   "metadata": {},
   "source": [
    "## The Start of Feature Engineering: Polynomials\n",
    "\n",
    "We'll keep things PG and just go up to squared terms, naturally considering interaction effects as well."
   ]
  },
  {
   "cell_type": "code",
   "execution_count": 64,
   "id": "ccd5289d",
   "metadata": {},
   "outputs": [],
   "source": [
    "X = df.drop('rings', axis=1)\n",
    "y = df['rings']\n",
    "\n",
    "X_train, X_test, y_train, y_test = train_test_split(X, y, test_size=.25, random_state=26)\n",
    "\n",
    "poly = PolynomialFeatures(degree = 2, include_bias=False)\n",
    "X_train_poly = poly.fit_transform(X_train)\n",
    "X_test_poly = poly.transform(X_test)\n",
    "\n",
    "df_poly_train = pd.DataFrame(X_train_poly, columns=poly.get_feature_names_out(X.columns)) #We'll use this later\n",
    "df_poly_test = pd.DataFrame(X_test_poly, columns=poly.get_feature_names_out(X.columns))\n",
    "\n",
    "mms = MinMaxScaler()\n",
    "X_train = mms.fit_transform(X_train)\n",
    "X_test = mms.transform(X_test)"
   ]
  },
  {
   "cell_type": "code",
   "execution_count": 11,
   "id": "c1ff7c41",
   "metadata": {},
   "outputs": [
    {
     "data": {
      "text/plain": [
       "54"
      ]
     },
     "execution_count": 11,
     "metadata": {},
     "output_type": "execute_result"
    }
   ],
   "source": [
    "len(poly.get_feature_names_out(X.columns))"
   ]
  },
  {
   "cell_type": "code",
   "execution_count": 36,
   "id": "efa6ef60",
   "metadata": {},
   "outputs": [
    {
     "name": "stdout",
     "output_type": "stream",
     "text": [
      "[]\n",
      "0.637502643156102 0.6391210169168662\n",
      "[0.61664033 0.61906504 0.62020718 0.62345992 0.62343427 0.62558104\n",
      " 0.62686518 0.6280259  0.62854671 0.62875105 0.62839985 0.62840971\n",
      " 0.6287009  0.62930472 0.62911993 0.62926181 0.62897665 0.62941128\n",
      " 0.62974946 0.62969177 0.6300942  0.63044306 0.63204007 0.63281593\n",
      " 0.6332747  0.63349061 0.6335524  0.63323694 0.633351   0.633187\n",
      " 0.63318795 0.63320335 0.63326952 0.63328497 0.63329516 0.63333263\n",
      " 0.63334052 0.63339293 0.63334014 0.6333579  0.63336914 0.63336319\n",
      " 0.63336625 0.63336738 0.63336738]\n"
     ]
    },
    {
     "data": {
      "text/plain": [
       "0.1562207342973044"
      ]
     },
     "execution_count": 36,
     "metadata": {},
     "output_type": "execute_result"
    }
   ],
   "source": [
    "#Hmm, so a maximum of 54 features now. let's do this!\n",
    "\n",
    "lr = LinearRegression()\n",
    "rfe = RFECV(lr, step=1, cv=5,\n",
    "                       min_features_to_select=35)\n",
    "\n",
    "model_defaults = rfe.fit(X_train_poly, y_train)\n",
    "\n",
    "preds_model_defaults = rfe.predict(X_test_poly)#And we're somehow getting some negative predictions.... note that againt his is\n",
    "#without any feature engineering.... Regardless, we'll just brute force it. Unsure if we have a better wayt han the following:\n",
    "\n",
    "for i in range(len(preds_model_defaults)):\n",
    "    if preds_model_defaults[i] < 0:\n",
    "        preds_model_defaults[i] = 0\n",
    "print(preds_model_defaults[preds_model_defaults<0])\n",
    "\n",
    "print(model_defaults.score(X_train_poly, y_train), model_defaults.score(X_test_poly, y_test))\n",
    "print(model_defaults.cv_results_['mean_test_score'])\n",
    "root_mean_squared_log_error(y_test, preds_model_defaults)"
   ]
  },
  {
   "cell_type": "code",
   "execution_count": 44,
   "id": "0b738753",
   "metadata": {},
   "outputs": [
    {
     "name": "stdout",
     "output_type": "stream",
     "text": [
      "36\n"
     ]
    },
    {
     "data": {
      "text/plain": [
       "array(['x0', 'x1', 'x2', 'x3', 'x4', 'x6', 'x9', 'x10', 'x11', 'x12',\n",
       "       'x13', 'x14', 'x15', 'x18', 'x19', 'x20', 'x21', 'x22', 'x23',\n",
       "       'x26', 'x28', 'x29', 'x30', 'x31', 'x34', 'x35', 'x36', 'x39',\n",
       "       'x40', 'x41', 'x42', 'x44', 'x45', 'x46', 'x48', 'x49'],\n",
       "      dtype=object)"
      ]
     },
     "execution_count": 44,
     "metadata": {},
     "output_type": "execute_result"
    }
   ],
   "source": [
    "print(model_defaults.n_features_)\n",
    "model_defaults.get_feature_names_out()"
   ]
  },
  {
   "cell_type": "code",
   "execution_count": 58,
   "id": "74fe0d37",
   "metadata": {},
   "outputs": [],
   "source": [
    "#Likely some better method exists, but eh...\n",
    "\n",
    "targets = []\n",
    "for i in model_defaults.get_feature_names_out():\n",
    "    targets.append(int(i[1:]))\n",
    "target_columns = []\n",
    "for i in targets:\n",
    "    target_columns.append(df_poly_train.columns[i])"
   ]
  },
  {
   "cell_type": "code",
   "execution_count": 60,
   "id": "2fca4eca",
   "metadata": {},
   "outputs": [
    {
     "data": {
      "text/plain": [
       "['length',\n",
       " 'diameter',\n",
       " 'height',\n",
       " 'whole_weight',\n",
       " 'whole_weight1',\n",
       " 'shell_weight']"
      ]
     },
     "execution_count": 60,
     "metadata": {},
     "output_type": "execute_result"
    }
   ],
   "source": [
    "target_columns[:6] #Hmm, so on a pure scale we are disregarding the second weight as well as pure sex variables. Howeve,r htey\n",
    "#do manifest in conjecture with others.\n",
    "\n",
    "#Recall earlier how we proposed that inherently, likely, the sex is meaningless and just a proxy for expected weights. So,\n",
    "#perhaps this is inline with what we assumed."
   ]
  },
  {
   "cell_type": "markdown",
   "id": "297bb748",
   "metadata": {},
   "source": [
    "Recall that the pure linear rmsle with lr was 0.16508650876858538.\n",
    "\n",
    "Hmm, originally I'm doing this after min/max scaling...yeah that's probably not a move as perhaps the scaling is interfering with their effects. Oh, while all that is true I had a more fundamental mistake - NOOB remember to score around the POLY dataset and not the original one...\n",
    "\n",
    "There we go, at 50 we already have a much lower RMSLE of .156. Let's keep on going for a while."
   ]
  },
  {
   "cell_type": "code",
   "execution_count": null,
   "id": "35e6b06a",
   "metadata": {},
   "outputs": [],
   "source": [
    "#I'll leave the name the same, so note how now it's just the subset per the earlier linear regression.\n",
    "\n",
    "X_train_poly = np.array(df_poly_train[target_columns])\n",
    "X_test_poly = np.array(df_poly_test[target_columns])"
   ]
  },
  {
   "cell_type": "code",
   "execution_count": 77,
   "id": "a719ddfb",
   "metadata": {},
   "outputs": [
    {
     "name": "stdout",
     "output_type": "stream",
     "text": [
      "0.9500471760962943 0.6566633589144847\n"
     ]
    },
    {
     "data": {
      "text/plain": [
       "0.15307428574200113"
      ]
     },
     "execution_count": 77,
     "metadata": {},
     "output_type": "execute_result"
    }
   ],
   "source": [
    "rf = RandomForestRegressor(random_state=26)\n",
    "\n",
    "model_defaults = rf.fit(X_train_poly, y_train)\n",
    "\n",
    "preds_model_defaults = rf.predict(X_test_poly)\n",
    "\n",
    "for i in range(len(preds_model_defaults)):\n",
    "    if preds_model_defaults[i] < 0:\n",
    "        preds_model_defaults[i] = 0\n",
    "\n",
    "print(model_defaults.score(X_train_poly, y_train), model_defaults.score(X_test_poly, y_test))\n",
    "# print(cross_val_score(rf, \n",
    "#                       X_train, y_train, cv = 5).mean()) #Yeah,c ommenting this guy out... taking too long plus a bit redundant\n",
    "# #Given that random forests are already aggregativing everything\n",
    "root_mean_squared_log_error(y_test, preds_model_defaults)\n",
    "\n",
    "#A fair bit lower... Hmm. My intuition tells me to even keep on going for now and get to logs first. So, perhaps\n",
    "#we'll return and actually tune the forest's parameters.\n",
    "\n",
    "#Tempted to do SVR just cause I need to be afk for a while...yeah why not. Let's do it."
   ]
  },
  {
   "cell_type": "code",
   "execution_count": null,
   "id": "0d58bbbf",
   "metadata": {},
   "outputs": [],
   "source": [
    "#Potential future spot for bagged forests x polys."
   ]
  },
  {
   "cell_type": "code",
   "execution_count": 75,
   "id": "ea87a6e5",
   "metadata": {},
   "outputs": [
    {
     "data": {
      "text/plain": [
       "(22653, 36)"
      ]
     },
     "execution_count": 75,
     "metadata": {},
     "output_type": "execute_result"
    }
   ],
   "source": [
    "X_train_poly = np.array(df_poly_train[target_columns])\n",
    "X_test_poly = np.array(df_poly_test[target_columns])"
   ]
  },
  {
   "cell_type": "code",
   "execution_count": 76,
   "id": "4b71937f",
   "metadata": {},
   "outputs": [
    {
     "name": "stdout",
     "output_type": "stream",
     "text": [
      "0.6256051790865003 0.6257469825562314\n"
     ]
    },
    {
     "data": {
      "text/plain": [
       "0.1549904012357784"
      ]
     },
     "execution_count": 76,
     "metadata": {},
     "output_type": "execute_result"
    }
   ],
   "source": [
    "svr = SVR() #Going with defautls at least for now\n",
    "\n",
    "svr = svr.fit(X_train_poly, y_train)\n",
    "\n",
    "preds_model_defaults = svr.predict(X_test_poly)\n",
    "for i in range(len(preds_model_defaults)):\n",
    "    if preds_model_defaults[i] < 0:\n",
    "        preds_model_defaults[i] = 0\n",
    "\n",
    "print(svr.score(X_train_poly, y_train), svr.score(X_test_poly, y_test))\n",
    "        \n",
    "root_mean_squared_log_error(y_test, preds_model_defaults)\n",
    "\n",
    "#Aww, all that waiting and not even better than the forests."
   ]
  },
  {
   "cell_type": "markdown",
   "id": "27fbc4c8",
   "metadata": {},
   "source": [
    "So, we'e made a bit of progress with introducing polynomial degree 2 and interaction effects. While RF is still our best and preferred model, we're down from .15345 to .15307 RMSLE."
   ]
  },
  {
   "cell_type": "markdown",
   "id": "a08bcd1e",
   "metadata": {},
   "source": [
    "## Round II - Logs\n",
    "\n",
    "As we predicted we'd have to do, given assumptions in using a log based metric (first time using such a thing so I honestly don't know if it's grounded anywhere. We'd do it anyways, but still...)"
   ]
  },
  {
   "cell_type": "code",
   "execution_count": 9,
   "id": "b5ad77e1",
   "metadata": {},
   "outputs": [],
   "source": [
    "#Some notes in case I need them"
   ]
  },
  {
   "cell_type": "code",
   "execution_count": 11,
   "id": "7408dafa",
   "metadata": {},
   "outputs": [],
   "source": [
    "# pipe = Pipeline([\n",
    "#     ('cvec', CountVectorizer(lowercase=False)),\n",
    "#     ('bc', BaggingClassifier(random_state=26))\n",
    "# ])\n",
    "# pipe_params = {'cvec__min_df' : [0.0]\n",
    "#                ,'cvec__max_df' : [.95]\n",
    "#                ,'cvec__ngram_range' : [(1,2)]\n",
    "#                ,'cvec__max_features' : [1800, 1750, 1700]\n",
    "#                ,'cvec__stop_words' : ['english']\n",
    "#               }\n",
    "# gs = GridSearchCV(pipe,\n",
    "#                   param_grid=pipe_params,\n",
    "#                   cv=5)\n",
    "\n",
    "# gs.fit(X_train, y_train)"
   ]
  },
  {
   "cell_type": "code",
   "execution_count": 12,
   "id": "e11cdfb2",
   "metadata": {},
   "outputs": [],
   "source": [
    "# print(gs.score(X_train, y_train), gs.score(X_test, y_test))\n",
    "# print(gs.best_score_)\n",
    "# print(gs.best_params_)\n",
    "# #Oh wow, this did a lot "
   ]
  },
  {
   "cell_type": "code",
   "execution_count": null,
   "id": "620808d8",
   "metadata": {},
   "outputs": [],
   "source": []
  }
 ],
 "metadata": {
  "kernelspec": {
   "display_name": "Python 3 (ipykernel)",
   "language": "python",
   "name": "python3"
  },
  "language_info": {
   "codemirror_mode": {
    "name": "ipython",
    "version": 3
   },
   "file_extension": ".py",
   "mimetype": "text/x-python",
   "name": "python",
   "nbconvert_exporter": "python",
   "pygments_lexer": "ipython3",
   "version": "3.11.5"
  }
 },
 "nbformat": 4,
 "nbformat_minor": 5
}
